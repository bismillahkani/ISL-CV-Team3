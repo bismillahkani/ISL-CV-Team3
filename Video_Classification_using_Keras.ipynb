{
  "nbformat": 4,
  "nbformat_minor": 0,
  "metadata": {
    "colab": {
      "name": "Video Classification using Keras.ipynb",
      "provenance": [],
      "collapsed_sections": [],
      "mount_file_id": "1JuUMvjypykPSWxt7CBSJXZrDgOfTK94w",
      "authorship_tag": "ABX9TyNECQXyiBQzOurHU+3FutsH",
      "include_colab_link": true
    },
    "kernelspec": {
      "name": "python3",
      "display_name": "Python 3"
    },
    "accelerator": "GPU"
  },
  "cells": [
    {
      "cell_type": "markdown",
      "metadata": {
        "id": "view-in-github",
        "colab_type": "text"
      },
      "source": [
        "<a href=\"https://colab.research.google.com/github/bismillahkani/ISL-CV-Team3/blob/master/Video_Classification_using_Keras.ipynb\" target=\"_parent\"><img src=\"https://colab.research.google.com/assets/colab-badge.svg\" alt=\"Open In Colab\"/></a>"
      ]
    },
    {
      "cell_type": "markdown",
      "metadata": {
        "id": "kH1pOOqNnnv0",
        "colab_type": "text"
      },
      "source": [
        "# Aim: To classify videos using Keras\n",
        "\n",
        "Datasets: https://www.crcv.ucf.edu/data/UCF_YouTube_Action.php"
      ]
    },
    {
      "cell_type": "markdown",
      "metadata": {
        "id": "9iDhoRkFoWKV",
        "colab_type": "text"
      },
      "source": [
        "### Load packages and libraries"
      ]
    },
    {
      "cell_type": "code",
      "metadata": {
        "id": "ak7cC7Y-nRNd",
        "colab_type": "code",
        "outputId": "44249454-2cbf-48cb-f1d5-d3b2da072948",
        "colab": {
          "base_uri": "https://localhost:8080/",
          "height": 80
        }
      },
      "source": [
        "import numpy as np\n",
        "import pandas as pd\n",
        "import glob\n",
        "import cv2\n",
        "import math    \n",
        "from PIL import Image\n",
        "import tensorflow as tf\n",
        "import keras\n",
        "import keras_preprocessing\n",
        "from keras_preprocessing import image\n",
        "from keras_preprocessing.image import ImageDataGenerator\n",
        "from keras import models, layers, optimizers\n",
        "from keras.models import Model\n",
        "from keras.models import Sequential\n",
        "from keras.layers import Activation,Dense, Dropout, Flatten, Conv2D, MaxPool2D,MaxPooling2D,AveragePooling2D, BatchNormalization, GlobalAveragePooling2D\n",
        "from keras.layers import Conv3D, MaxPool3D, MaxPooling3D, GlobalMaxPool2D, GlobalMaxPool3D, AveragePooling3D\n",
        "from keras.applications.vgg16 import VGG16\n",
        "from keras.applications.inception_v3 import InceptionV3\n",
        "from keras.applications.resnet_v2 import ResNet152V2\n",
        "from keras import regularizers\n",
        "from keras.optimizers import SGD, RMSprop\n",
        "from keras.callbacks import ModelCheckpoint, LearningRateScheduler, EarlyStopping\n",
        "from sklearn.metrics import classification_report, confusion_matrix, accuracy_score\n",
        "from keras.utils import np_utils, generic_utils\n",
        "from sklearn.utils import class_weight\n",
        "from sklearn.model_selection import train_test_split\n",
        "from sklearn import model_selection\n",
        "from sklearn import preprocessing\n",
        "import seaborn as sns\n",
        "import matplotlib.pyplot as plt\n",
        "import matplotlib.cm as cm\n",
        "%matplotlib inline"
      ],
      "execution_count": 1,
      "outputs": [
        {
          "output_type": "display_data",
          "data": {
            "text/html": [
              "<p style=\"color: red;\">\n",
              "The default version of TensorFlow in Colab will switch to TensorFlow 2.x on the 27th of March, 2020.<br>\n",
              "We recommend you <a href=\"https://www.tensorflow.org/guide/migrate\" target=\"_blank\">upgrade</a> now\n",
              "or ensure your notebook will continue to use TensorFlow 1.x via the <code>%tensorflow_version 1.x</code> magic:\n",
              "<a href=\"https://colab.research.google.com/notebooks/tensorflow_version.ipynb\" target=\"_blank\">more info</a>.</p>\n"
            ],
            "text/plain": [
              "<IPython.core.display.HTML object>"
            ]
          },
          "metadata": {
            "tags": []
          }
        },
        {
          "output_type": "stream",
          "text": [
            "Using TensorFlow backend.\n"
          ],
          "name": "stderr"
        }
      ]
    },
    {
      "cell_type": "markdown",
      "metadata": {
        "id": "tym9gjmlofX0",
        "colab_type": "text"
      },
      "source": [
        "### Dataset Exploration"
      ]
    },
    {
      "cell_type": "markdown",
      "metadata": {
        "id": "Ej2VoWHSolcs",
        "colab_type": "text"
      },
      "source": [
        "### Load dataset"
      ]
    },
    {
      "cell_type": "code",
      "metadata": {
        "id": "6lboiuq2odBM",
        "colab_type": "code",
        "colab": {}
      },
      "source": [
        "import os\n",
        "import zipfile\n",
        "\n",
        "local_zip = '/content/drive/My Drive/ISL Video/dataset_11.zip'\n",
        "zip_ref = zipfile.ZipFile(local_zip, 'r')\n",
        "zip_ref.extractall('/tmp/')\n",
        "zip_ref.close()"
      ],
      "execution_count": 0,
      "outputs": []
    },
    {
      "cell_type": "code",
      "metadata": {
        "id": "B6X4_c_vMV28",
        "colab_type": "code",
        "colab": {}
      },
      "source": [
        "dataset_path = '/tmp/dataset_11/'\n",
        "video_paths=[video_path for video_path in glob.glob(dataset_path+'/*/*')]\n",
        "video_categories=[os.path.basename(os.path.dirname(video_path)) for video_path in video_paths]\n",
        "filenames=[os.path.basename(video_path) for video_path in video_paths]"
      ],
      "execution_count": 0,
      "outputs": []
    },
    {
      "cell_type": "code",
      "metadata": {
        "id": "gNzQ9O0QNHbR",
        "colab_type": "code",
        "outputId": "c4bb1872-23eb-4392-b3b8-1013a58e5c6a",
        "colab": {
          "base_uri": "https://localhost:8080/",
          "height": 204
        }
      },
      "source": [
        "dataset_df = pd.DataFrame({'video_paths':video_paths,'filename':filenames,'video_category':video_categories})\n",
        "dataset_df.sort_values('video_category',inplace=True)\n",
        "dataset_df.head()"
      ],
      "execution_count": 4,
      "outputs": [
        {
          "output_type": "execute_result",
          "data": {
            "text/html": [
              "<div>\n",
              "<style scoped>\n",
              "    .dataframe tbody tr th:only-of-type {\n",
              "        vertical-align: middle;\n",
              "    }\n",
              "\n",
              "    .dataframe tbody tr th {\n",
              "        vertical-align: top;\n",
              "    }\n",
              "\n",
              "    .dataframe thead th {\n",
              "        text-align: right;\n",
              "    }\n",
              "</style>\n",
              "<table border=\"1\" class=\"dataframe\">\n",
              "  <thead>\n",
              "    <tr style=\"text-align: right;\">\n",
              "      <th></th>\n",
              "      <th>video_paths</th>\n",
              "      <th>filename</th>\n",
              "      <th>video_category</th>\n",
              "    </tr>\n",
              "  </thead>\n",
              "  <tbody>\n",
              "    <tr>\n",
              "      <th>986</th>\n",
              "      <td>/tmp/dataset_11/biking/v_biking_02_06.mpg</td>\n",
              "      <td>v_biking_02_06.mpg</td>\n",
              "      <td>biking</td>\n",
              "    </tr>\n",
              "    <tr>\n",
              "      <th>969</th>\n",
              "      <td>/tmp/dataset_11/biking/v_biking_16_05.mpg</td>\n",
              "      <td>v_biking_16_05.mpg</td>\n",
              "      <td>biking</td>\n",
              "    </tr>\n",
              "    <tr>\n",
              "      <th>970</th>\n",
              "      <td>/tmp/dataset_11/biking/v_biking_15_05.mpg</td>\n",
              "      <td>v_biking_15_05.mpg</td>\n",
              "      <td>biking</td>\n",
              "    </tr>\n",
              "    <tr>\n",
              "      <th>971</th>\n",
              "      <td>/tmp/dataset_11/biking/v_biking_09_03.mpg</td>\n",
              "      <td>v_biking_09_03.mpg</td>\n",
              "      <td>biking</td>\n",
              "    </tr>\n",
              "    <tr>\n",
              "      <th>972</th>\n",
              "      <td>/tmp/dataset_11/biking/v_biking_06_03.mpg</td>\n",
              "      <td>v_biking_06_03.mpg</td>\n",
              "      <td>biking</td>\n",
              "    </tr>\n",
              "  </tbody>\n",
              "</table>\n",
              "</div>"
            ],
            "text/plain": [
              "                                   video_paths  ... video_category\n",
              "986  /tmp/dataset_11/biking/v_biking_02_06.mpg  ...         biking\n",
              "969  /tmp/dataset_11/biking/v_biking_16_05.mpg  ...         biking\n",
              "970  /tmp/dataset_11/biking/v_biking_15_05.mpg  ...         biking\n",
              "971  /tmp/dataset_11/biking/v_biking_09_03.mpg  ...         biking\n",
              "972  /tmp/dataset_11/biking/v_biking_06_03.mpg  ...         biking\n",
              "\n",
              "[5 rows x 3 columns]"
            ]
          },
          "metadata": {
            "tags": []
          },
          "execution_count": 4
        }
      ]
    },
    {
      "cell_type": "code",
      "metadata": {
        "id": "nxZt57pSNKy3",
        "colab_type": "code",
        "outputId": "0b8e02e1-705e-4138-da0a-0165bdfaea75",
        "colab": {
          "base_uri": "https://localhost:8080/",
          "height": 286
        }
      },
      "source": [
        "sns.set(style=\"darkgrid\")\n",
        "ax = sns.countplot(x=\"video_category\", data=dataset_df)"
      ],
      "execution_count": 5,
      "outputs": [
        {
          "output_type": "display_data",
          "data": {
            "image/png": "[encoded data removed]",
            "text/plain": [
              "<Figure size 432x288 with 1 Axes>"
            ]
          },
          "metadata": {
            "tags": []
          }
        }
      ]
    },
    {
      "cell_type": "markdown",
      "metadata": {
        "id": "H0kB89Wp4Th8",
        "colab_type": "text"
      },
      "source": [
        "Helper functions"
      ]
    },
    {
      "cell_type": "code",
      "metadata": {
        "id": "iLy4FCyU4NTY",
        "colab_type": "code",
        "colab": {}
      },
      "source": [
        "# Helper function to plot learning curves\n",
        "\n",
        "def plot_training(history):\n",
        "    fig = plt.figure(figsize=(16,4))\n",
        "    ax = fig.add_subplot(121)\n",
        "    ax.plot(history.history[\"val_loss\"], label=\"val_loss\")\n",
        "    ax.plot(history.history[\"loss\"], label=\"train_loss\")\n",
        "    ax.set_title(\"validation/training loss\")\n",
        "    ax.set_xlabel(\"epochs\")\n",
        "    ax.legend()\n",
        "\n",
        "    ax2 = fig.add_subplot(122)\n",
        "    ax2.plot(history.history[\"val_acc\"], label=\"val_acc\")\n",
        "    ax2.plot(history.history[\"acc\"], label=\"train_acc\")\n",
        "    ax2.set_title(\"validation/training accuracy\")\n",
        "    ax2.set_xlabel(\"epochs\")\n",
        "    ax2.set_ylim(0, 1)\n",
        "    ax2.legend()\n",
        "\n",
        "    plt.show()\n",
        "\n",
        "def plot_confusion_matrix(cm, classes,\n",
        "                          normalize=False,\n",
        "                          title='Confusion matrix',\n",
        "                          cmap=plt.cm.Blues):\n",
        "    \"\"\"\n",
        "    This function prints and plots the confusion matrix.\n",
        "    Normalization can be applied by setting `normalize=True`.\n",
        "    \"\"\"\n",
        "    plt.figure(figsize = (8,8))\n",
        "    plt.imshow(cm, interpolation='nearest', cmap=cmap)\n",
        "    plt.title(title)\n",
        "    plt.colorbar()\n",
        "    tick_marks = np.arange(len(classes))\n",
        "    plt.xticks(tick_marks, classes, rotation=90)\n",
        "    plt.yticks(tick_marks, classes)\n",
        "    if normalize:\n",
        "        cm = cm.astype('float') / cm.sum(axis=1)[:, np.newaxis]\n",
        "\n",
        "    thresh = cm.max() / 2.\n",
        "    for i, j in itertools.product(range(cm.shape[0]), range(cm.shape[1])):\n",
        "        plt.text(j, i, cm[i, j],\n",
        "                 horizontalalignment=\"center\",\n",
        "                 color=\"white\" if cm[i, j] > thresh else \"black\")\n",
        "    plt.tight_layout()\n",
        "    plt.ylabel('True label')\n",
        "    plt.xlabel('Predicted label')"
      ],
      "execution_count": 0,
      "outputs": []
    },
    {
      "cell_type": "markdown",
      "metadata": {
        "id": "hmUXCtQU4zlq",
        "colab_type": "text"
      },
      "source": [
        "Keras Video Generator"
      ]
    },
    {
      "cell_type": "code",
      "metadata": {
        "id": "JJNQ98204dRv",
        "colab_type": "code",
        "colab": {
          "base_uri": "https://localhost:8080/",
          "height": 309
        },
        "outputId": "cb23cc47-8317-459e-e444-7223044d6033"
      },
      "source": [
        "! pip install keras-video-generators"
      ],
      "execution_count": 7,
      "outputs": [
        {
          "output_type": "stream",
          "text": [
            "Requirement already satisfied: keras-video-generators in /usr/local/lib/python3.6/dist-packages (1.0.13)\n",
            "Requirement already satisfied: matplotlib in /usr/local/lib/python3.6/dist-packages (from keras-video-generators) (3.2.1)\n",
            "Requirement already satisfied: numpy in /usr/local/lib/python3.6/dist-packages (from keras-video-generators) (1.18.2)\n",
            "Requirement already satisfied: keras>=2 in /usr/local/lib/python3.6/dist-packages (from keras-video-generators) (2.2.5)\n",
            "Requirement already satisfied: opencv-python in /usr/local/lib/python3.6/dist-packages (from keras-video-generators) (4.1.2.30)\n",
            "Requirement already satisfied: python-dateutil>=2.1 in /usr/local/lib/python3.6/dist-packages (from matplotlib->keras-video-generators) (2.8.1)\n",
            "Requirement already satisfied: cycler>=0.10 in /usr/local/lib/python3.6/dist-packages (from matplotlib->keras-video-generators) (0.10.0)\n",
            "Requirement already satisfied: pyparsing!=2.0.4,!=2.1.2,!=2.1.6,>=2.0.1 in /usr/local/lib/python3.6/dist-packages (from matplotlib->keras-video-generators) (2.4.6)\n",
            "Requirement already satisfied: kiwisolver>=1.0.1 in /usr/local/lib/python3.6/dist-packages (from matplotlib->keras-video-generators) (1.1.0)\n",
            "Requirement already satisfied: scipy>=0.14 in /usr/local/lib/python3.6/dist-packages (from keras>=2->keras-video-generators) (1.4.1)\n",
            "Requirement already satisfied: pyyaml in /usr/local/lib/python3.6/dist-packages (from keras>=2->keras-video-generators) (3.13)\n",
            "Requirement already satisfied: h5py in /usr/local/lib/python3.6/dist-packages (from keras>=2->keras-video-generators) (2.8.0)\n",
            "Requirement already satisfied: keras-preprocessing>=1.1.0 in /usr/local/lib/python3.6/dist-packages (from keras>=2->keras-video-generators) (1.1.0)\n",
            "Requirement already satisfied: keras-applications>=1.0.8 in /usr/local/lib/python3.6/dist-packages (from keras>=2->keras-video-generators) (1.0.8)\n",
            "Requirement already satisfied: six>=1.9.0 in /usr/local/lib/python3.6/dist-packages (from keras>=2->keras-video-generators) (1.12.0)\n",
            "Requirement already satisfied: setuptools in /usr/local/lib/python3.6/dist-packages (from kiwisolver>=1.0.1->matplotlib->keras-video-generators) (46.0.0)\n"
          ],
          "name": "stdout"
        }
      ]
    },
    {
      "cell_type": "code",
      "metadata": {
        "id": "Umd7ym-D4geC",
        "colab_type": "code",
        "colab": {}
      },
      "source": [
        "from keras_video import VideoFrameGenerator\n",
        "from keras_video import utils as ku"
      ],
      "execution_count": 0,
      "outputs": []
    },
    {
      "cell_type": "code",
      "metadata": {
        "id": "_NtkVQgkNyPi",
        "colab_type": "code",
        "colab": {}
      },
      "source": [
        "# some global params\n",
        "channels = 3\n",
        "input_size = (64,64)\n",
        "input_dims = (64, 64, 3)\n",
        "input_shape = (15, 64, 64, 3)\n",
        "n_frames = 15\n",
        "batch_size = 2\n",
        "classes = list(dataset_df['video_category'].unique())\n",
        "n_classes = len(classes)"
      ],
      "execution_count": 0,
      "outputs": []
    },
    {
      "cell_type": "code",
      "metadata": {
        "id": "oQsKdvG3N33J",
        "colab_type": "code",
        "colab": {}
      },
      "source": [
        "# pattern to get videos and classes\n",
        "glob_pattern='/tmp/dataset/{classname}/*'"
      ],
      "execution_count": 0,
      "outputs": []
    },
    {
      "cell_type": "code",
      "metadata": {
        "id": "FQksFAF3N7YC",
        "colab_type": "code",
        "outputId": "55ab7891-c8ac-41b3-c68f-feb94a647a61",
        "colab": {
          "base_uri": "https://localhost:8080/",
          "height": 238
        }
      },
      "source": [
        "# for data augmentation\n",
        "data_aug = ImageDataGenerator(\n",
        "    zoom_range=.1,\n",
        "    horizontal_flip=True,\n",
        "    rotation_range=8,\n",
        "    width_shift_range=.2,\n",
        "    height_shift_range=.2)\n",
        "\n",
        "# Create video frame generator\n",
        "train_generator = VideoFrameGenerator(\n",
        "    classes=classes, \n",
        "    glob_pattern=glob_pattern,\n",
        "    nb_frames=n_frames,\n",
        "    split_val=0.2, \n",
        "    shuffle=True,\n",
        "    batch_size=batch_size,\n",
        "    target_shape=input_size,\n",
        "    nb_channel=channels,\n",
        "    transformation=data_aug,\n",
        "    use_frame_cache=True)\n",
        "\n",
        "val_generator = train_generator.get_validation_generator()"
      ],
      "execution_count": 13,
      "outputs": [
        {
          "output_type": "stream",
          "text": [
            "class biking, validation count: 29, train count: 116\n",
            "class diving, validation count: 31, train count: 125\n",
            "class golf_swing, validation count: 0, train count: 0\n",
            "class horse_riding, validation count: 0, train count: 0\n",
            "class shooting, validation count: 28, train count: 113\n",
            "class soccer_juggling, validation count: 0, train count: 0\n",
            "class swing, validation count: 0, train count: 0\n",
            "class tennis_swing, validation count: 0, train count: 0\n",
            "class trampoline_jumping, validation count: 0, train count: 0\n",
            "class volleyball_spiking, validation count: 0, train count: 0\n",
            "class walking, validation count: 0, train count: 0\n",
            "Total data: 11 classes for 354 files for train\n",
            "Total data: 11 classes for 88 files for validation\n"
          ],
          "name": "stdout"
        }
      ]
    },
    {
      "cell_type": "markdown",
      "metadata": {
        "id": "oGQP0ypf5CDj",
        "colab_type": "text"
      },
      "source": [
        "Model callbacks"
      ]
    },
    {
      "cell_type": "code",
      "metadata": {
        "id": "RQxU5pfL5BPz",
        "colab_type": "code",
        "colab": {}
      },
      "source": [
        "def scheduler(epoch):\n",
        "  if epoch < 3:\n",
        "    return 0.001\n",
        "  else:\n",
        "    return 0.001 * 1/(1 + 0.0001 * epoch)\n",
        "\n",
        "learning_rate_scheduler = LearningRateScheduler(scheduler)\n",
        "\n",
        "earlystopping = EarlyStopping(monitor='acc', mode='max', patience=5, verbose=1)\n",
        "\n",
        "checkpoint = ModelCheckpoint('/content/drive/My Drive/ISL Video/isl_3DCNN_v1.hdf5', monitor='val_loss', verbose=0, save_best_only=True, save_weights_only=False, mode='auto', period=1)\n",
        "\n",
        "callbacks = [learning_rate_scheduler, earlystopping, checkpoint]"
      ],
      "execution_count": 0,
      "outputs": []
    },
    {
      "cell_type": "markdown",
      "metadata": {
        "id": "h7u4OvX8478t",
        "colab_type": "text"
      },
      "source": [
        "# Custom 3DCNN model"
      ]
    },
    {
      "cell_type": "code",
      "metadata": {
        "id": "-fL2BYXSVw4p",
        "colab_type": "code",
        "colab": {}
      },
      "source": [
        "def build_convnet3D(input_shape=(15, 16, 16, 3),n_classes=3):\n",
        "    momentum = .9\n",
        "    model = keras.Sequential()\n",
        "    model.add(Conv3D(16, (3,3,3), input_shape=input_shape, padding='same', activation='relu'))\n",
        "    model.add(Conv3D(16, (3,3,3), padding='same', activation='relu'))\n",
        "    model.add(BatchNormalization(momentum=momentum))    \n",
        "    model.add(MaxPool3D())    \n",
        "    model.add(Conv3D(32, (3,3,3), padding='same', activation='relu'))\n",
        "    model.add(Conv3D(32, (3,3,3), padding='same', activation='relu'))\n",
        "    model.add(BatchNormalization(momentum=momentum))    \n",
        "    model.add(MaxPool3D())  \n",
        "    model.add(Flatten())\n",
        "    model.add(Dense(1024, activation='relu'))\n",
        "    model.add(Dropout(.5))\n",
        "    model.add(Dense(512, activation='relu'))\n",
        "    model.add(Dropout(.5))\n",
        "    model.add(Dense(128, activation='relu'))\n",
        "    model.add(Dropout(.5))\n",
        "    model.add(Dense(64, activation='relu'))\n",
        "    model.add(Dense(n_classes, activation='softmax'))\n",
        "    return model"
      ],
      "execution_count": 0,
      "outputs": []
    },
    {
      "cell_type": "code",
      "metadata": {
        "id": "D3EeS22FU0ku",
        "colab_type": "code",
        "colab": {
          "base_uri": "https://localhost:8080/",
          "height": 870
        },
        "outputId": "8ee70c5e-7950-427c-df55-00aa0de91e35"
      },
      "source": [
        "model = build_convnet3D(input_shape, n_classes)\n",
        "model.summary()"
      ],
      "execution_count": 21,
      "outputs": [
        {
          "output_type": "stream",
          "text": [
            "WARNING:tensorflow:From /usr/local/lib/python3.6/dist-packages/keras/backend/tensorflow_backend.py:4432: The name tf.random_uniform is deprecated. Please use tf.random.uniform instead.\n",
            "\n",
            "WARNING:tensorflow:From /usr/local/lib/python3.6/dist-packages/keras/backend/tensorflow_backend.py:148: The name tf.placeholder_with_default is deprecated. Please use tf.compat.v1.placeholder_with_default instead.\n",
            "\n",
            "WARNING:tensorflow:From /usr/local/lib/python3.6/dist-packages/keras/backend/tensorflow_backend.py:3733: calling dropout (from tensorflow.python.ops.nn_ops) with keep_prob is deprecated and will be removed in a future version.\n",
            "Instructions for updating:\n",
            "Please use `rate` instead of `keep_prob`. Rate should be set to `rate = 1 - keep_prob`.\n",
            "Model: \"sequential_4\"\n",
            "_________________________________________________________________\n",
            "Layer (type)                 Output Shape              Param #   \n",
            "=================================================================\n",
            "conv3d_4 (Conv3D)            (None, 15, 64, 64, 16)    1312      \n",
            "_________________________________________________________________\n",
            "conv3d_5 (Conv3D)            (None, 15, 64, 64, 16)    6928      \n",
            "_________________________________________________________________\n",
            "batch_normalization_1 (Batch (None, 15, 64, 64, 16)    64        \n",
            "_________________________________________________________________\n",
            "max_pooling3d_1 (MaxPooling3 (None, 7, 32, 32, 16)     0         \n",
            "_________________________________________________________________\n",
            "conv3d_6 (Conv3D)            (None, 7, 32, 32, 32)     13856     \n",
            "_________________________________________________________________\n",
            "conv3d_7 (Conv3D)            (None, 7, 32, 32, 32)     27680     \n",
            "_________________________________________________________________\n",
            "batch_normalization_2 (Batch (None, 7, 32, 32, 32)     128       \n",
            "_________________________________________________________________\n",
            "max_pooling3d_2 (MaxPooling3 (None, 3, 16, 16, 32)     0         \n",
            "_________________________________________________________________\n",
            "flatten_1 (Flatten)          (None, 24576)             0         \n",
            "_________________________________________________________________\n",
            "dense_1 (Dense)              (None, 1024)              25166848  \n",
            "_________________________________________________________________\n",
            "dropout_1 (Dropout)          (None, 1024)              0         \n",
            "_________________________________________________________________\n",
            "dense_2 (Dense)              (None, 512)               524800    \n",
            "_________________________________________________________________\n",
            "dropout_2 (Dropout)          (None, 512)               0         \n",
            "_________________________________________________________________\n",
            "dense_3 (Dense)              (None, 128)               65664     \n",
            "_________________________________________________________________\n",
            "dropout_3 (Dropout)          (None, 128)               0         \n",
            "_________________________________________________________________\n",
            "dense_4 (Dense)              (None, 64)                8256      \n",
            "_________________________________________________________________\n",
            "dense_5 (Dense)              (None, 11)                715       \n",
            "=================================================================\n",
            "Total params: 25,816,251\n",
            "Trainable params: 25,816,155\n",
            "Non-trainable params: 96\n",
            "_________________________________________________________________\n"
          ],
          "name": "stdout"
        }
      ]
    },
    {
      "cell_type": "code",
      "metadata": {
        "id": "Pmbp7Q_DU_KZ",
        "colab_type": "code",
        "outputId": "65cf973b-d6a4-4d48-c202-c5f29a39191f",
        "colab": {
          "base_uri": "https://localhost:8080/",
          "height": 819
        }
      },
      "source": [
        "# sgd = optimizers.SGD(lr=0.0001)\n",
        "adam = optimizers.Adam(lr=0.001)\n",
        "\n",
        "#model.compile(loss = 'categorical_crossentropy', optimizer='adam', metrics=['accuracy'])\n",
        "model.compile(loss = 'categorical_crossentropy', optimizer = adam, metrics=['accuracy'])\n",
        "\n",
        "classweight = class_weight.compute_class_weight('balanced', np.unique(train_generator.classes), train_generator.classes)\n",
        "\n",
        "history = model.fit_generator(train_generator, \n",
        "                              steps_per_epoch = (train_generator.files_count // train_generator.batch_size), \n",
        "                              epochs = 50, \n",
        "                              validation_data = val_generator, \n",
        "                              validation_steps = (val_generator.files_count // val_generator.batch_size),\n",
        "                              class_weight=classweight,\n",
        "                              verbose = 1, \n",
        "                              callbacks=callbacks)"
      ],
      "execution_count": 25,
      "outputs": [
        {
          "output_type": "stream",
          "text": [
            "Frame count is not OK for video /tmp/dataset/shooting/v_shooting_24_01.mpg, 1 total, 1 extracted\n"
          ],
          "name": "stderr"
        },
        {
          "output_type": "stream",
          "text": [
            "Epoch 1/50\n"
          ],
          "name": "stdout"
        },
        {
          "output_type": "stream",
          "text": [
            "Frame count is not OK for video /tmp/dataset/shooting/v_shooting_25_06.mpg, 12 total, 12 extracted\n"
          ],
          "name": "stderr"
        },
        {
          "output_type": "stream",
          "text": [
            "24/44 [===============>..............] - ETA: 3s - loss: 10.1817 - acc: 0.3683"
          ],
          "name": "stdout"
        },
        {
          "output_type": "stream",
          "text": [
            "Frame count is not OK for video /tmp/dataset/shooting/v_shooting_16_05.mpg, 13 total, 13 extracted\n"
          ],
          "name": "stderr"
        },
        {
          "output_type": "stream",
          "text": [
            "44/44 [==============================] - 8s 186ms/step - loss: 10.7674 - acc: 0.3320 - val_loss: 10.7454 - val_acc: 0.3333\n"
          ],
          "name": "stdout"
        },
        {
          "output_type": "stream",
          "text": [
            "Frame count is not OK for video /tmp/dataset/shooting/v_shooting_24_01.mpg, 1 total, 1 extracted\n"
          ],
          "name": "stderr"
        },
        {
          "output_type": "stream",
          "text": [
            "Epoch 2/50\n",
            "28/44 [==================>...........] - ETA: 2s - loss: 10.9373 - acc: 0.3214"
          ],
          "name": "stdout"
        },
        {
          "output_type": "stream",
          "text": [
            "Frame count is not OK for video /tmp/dataset/shooting/v_shooting_25_06.mpg, 12 total, 12 extracted\n"
          ],
          "name": "stderr"
        },
        {
          "output_type": "stream",
          "text": [
            "43/44 [============================>.] - ETA: 0s - loss: 10.7566 - acc: 0.3326"
          ],
          "name": "stdout"
        },
        {
          "output_type": "stream",
          "text": [
            "Frame count is not OK for video /tmp/dataset/shooting/v_shooting_16_05.mpg, 13 total, 13 extracted\n"
          ],
          "name": "stderr"
        },
        {
          "output_type": "stream",
          "text": [
            "44/44 [==============================] - 7s 153ms/step - loss: 10.7738 - acc: 0.3316 - val_loss: 10.7454 - val_acc: 0.3333\n",
            "Epoch 3/50\n",
            " 1/44 [..............................] - ETA: 4s - loss: 10.0738 - acc: 0.3750"
          ],
          "name": "stdout"
        },
        {
          "output_type": "stream",
          "text": [
            "Frame count is not OK for video /tmp/dataset/shooting/v_shooting_24_01.mpg, 1 total, 1 extracted\n"
          ],
          "name": "stderr"
        },
        {
          "output_type": "stream",
          "text": [
            " 8/44 [====>.........................] - ETA: 4s - loss: 11.5849 - acc: 0.2812"
          ],
          "name": "stdout"
        },
        {
          "output_type": "stream",
          "text": [
            "Frame count is not OK for video /tmp/dataset/shooting/v_shooting_25_06.mpg, 12 total, 12 extracted\n"
          ],
          "name": "stderr"
        },
        {
          "output_type": "stream",
          "text": [
            "33/44 [=====================>........] - ETA: 1s - loss: 10.7367 - acc: 0.3339"
          ],
          "name": "stdout"
        },
        {
          "output_type": "stream",
          "text": [
            "Frame count is not OK for video /tmp/dataset/shooting/v_shooting_16_05.mpg, 13 total, 13 extracted\n"
          ],
          "name": "stderr"
        },
        {
          "output_type": "stream",
          "text": [
            "44/44 [==============================] - 7s 154ms/step - loss: 10.8452 - acc: 0.3271 - val_loss: 10.7454 - val_acc: 0.3333\n",
            "Epoch 4/50\n",
            " 1/44 [..............................] - ETA: 4s - loss: 14.1033 - acc: 0.1250"
          ],
          "name": "stdout"
        },
        {
          "output_type": "stream",
          "text": [
            "Frame count is not OK for video /tmp/dataset/shooting/v_shooting_24_01.mpg, 1 total, 1 extracted\n"
          ],
          "name": "stderr"
        },
        {
          "output_type": "stream",
          "text": [
            "28/44 [==================>...........] - ETA: 2s - loss: 10.8653 - acc: 0.3259"
          ],
          "name": "stdout"
        },
        {
          "output_type": "stream",
          "text": [
            "Frame count is not OK for video /tmp/dataset/shooting/v_shooting_25_06.mpg, 12 total, 12 extracted\n"
          ],
          "name": "stderr"
        },
        {
          "output_type": "stream",
          "text": [
            "38/44 [========================>.....] - ETA: 0s - loss: 10.7025 - acc: 0.3360"
          ],
          "name": "stdout"
        },
        {
          "output_type": "stream",
          "text": [
            "Frame count is not OK for video /tmp/dataset/shooting/v_shooting_16_05.mpg, 13 total, 13 extracted\n"
          ],
          "name": "stderr"
        },
        {
          "output_type": "stream",
          "text": [
            "44/44 [==============================] - 7s 153ms/step - loss: 10.7472 - acc: 0.3332 - val_loss: 10.7454 - val_acc: 0.3333\n",
            "Epoch 5/50\n",
            " 1/44 [..............................] - ETA: 4s - loss: 16.1181 - acc: 0.0000e+00"
          ],
          "name": "stdout"
        },
        {
          "output_type": "stream",
          "text": [
            "Frame count is not OK for video /tmp/dataset/shooting/v_shooting_24_01.mpg, 1 total, 1 extracted\n"
          ],
          "name": "stderr"
        },
        {
          "output_type": "stream",
          "text": [
            "26/44 [================>.............] - ETA: 2s - loss: 11.3137 - acc: 0.2981"
          ],
          "name": "stdout"
        },
        {
          "output_type": "stream",
          "text": [
            "Frame count is not OK for video /tmp/dataset/shooting/v_shooting_16_05.mpg, 13 total, 13 extracted\n"
          ],
          "name": "stderr"
        },
        {
          "output_type": "stream",
          "text": [
            "35/44 [======================>.......] - ETA: 1s - loss: 10.9702 - acc: 0.3194"
          ],
          "name": "stdout"
        },
        {
          "output_type": "stream",
          "text": [
            "Frame count is not OK for video /tmp/dataset/shooting/v_shooting_25_06.mpg, 12 total, 12 extracted\n"
          ],
          "name": "stderr"
        },
        {
          "output_type": "stream",
          "text": [
            "44/44 [==============================] - 7s 156ms/step - loss: 10.9112 - acc: 0.3230 - val_loss: 10.7454 - val_acc: 0.3333\n"
          ],
          "name": "stdout"
        },
        {
          "output_type": "stream",
          "text": [
            "Frame count is not OK for video /tmp/dataset/shooting/v_shooting_25_06.mpg, 12 total, 12 extracted\n"
          ],
          "name": "stderr"
        },
        {
          "output_type": "stream",
          "text": [
            "Epoch 6/50\n",
            "\r 1/44 [..............................] - ETA: 4s - loss: 14.1033 - acc: 0.1250"
          ],
          "name": "stdout"
        },
        {
          "output_type": "stream",
          "text": [
            "Frame count is not OK for video /tmp/dataset/shooting/v_shooting_24_01.mpg, 1 total, 1 extracted\n"
          ],
          "name": "stderr"
        },
        {
          "output_type": "stream",
          "text": [
            "37/44 [========================>.....] - ETA: 1s - loss: 10.8206 - acc: 0.3287"
          ],
          "name": "stdout"
        },
        {
          "output_type": "stream",
          "text": [
            "Frame count is not OK for video /tmp/dataset/shooting/v_shooting_16_05.mpg, 13 total, 13 extracted\n"
          ],
          "name": "stderr"
        },
        {
          "output_type": "stream",
          "text": [
            "44/44 [==============================] - 7s 155ms/step - loss: 10.7866 - acc: 0.3308 - val_loss: 10.7454 - val_acc: 0.3333\n",
            "Epoch 7/50\n",
            " 1/44 [..............................] - ETA: 4s - loss: 12.0886 - acc: 0.2500"
          ],
          "name": "stdout"
        },
        {
          "output_type": "stream",
          "text": [
            "Frame count is not OK for video /tmp/dataset/shooting/v_shooting_24_01.mpg, 1 total, 1 extracted\n"
          ],
          "name": "stderr"
        },
        {
          "output_type": "stream",
          "text": [
            "15/44 [=========>....................] - ETA: 4s - loss: 11.1483 - acc: 0.3083"
          ],
          "name": "stdout"
        },
        {
          "output_type": "stream",
          "text": [
            "Frame count is not OK for video /tmp/dataset/shooting/v_shooting_16_05.mpg, 13 total, 13 extracted\n"
          ],
          "name": "stderr"
        },
        {
          "output_type": "stream",
          "text": [
            "36/44 [=======================>......] - ETA: 1s - loss: 10.5536 - acc: 0.3452"
          ],
          "name": "stdout"
        },
        {
          "output_type": "stream",
          "text": [
            "Frame count is not OK for video /tmp/dataset/shooting/v_shooting_25_06.mpg, 12 total, 12 extracted\n"
          ],
          "name": "stderr"
        },
        {
          "output_type": "stream",
          "text": [
            "44/44 [==============================] - 7s 156ms/step - loss: 10.7408 - acc: 0.3336 - val_loss: 10.7454 - val_acc: 0.3333\n",
            "Epoch 8/50\n",
            " 1/44 [..............................] - ETA: 4s - loss: 12.0886 - acc: 0.2500"
          ],
          "name": "stdout"
        },
        {
          "output_type": "stream",
          "text": [
            "Frame count is not OK for video /tmp/dataset/shooting/v_shooting_24_01.mpg, 1 total, 1 extracted\n"
          ],
          "name": "stderr"
        },
        {
          "output_type": "stream",
          "text": [
            " 4/44 [=>............................] - ETA: 4s - loss: 13.0960 - acc: 0.1875"
          ],
          "name": "stdout"
        },
        {
          "output_type": "stream",
          "text": [
            "Frame count is not OK for video /tmp/dataset/shooting/v_shooting_16_05.mpg, 13 total, 13 extracted\n"
          ],
          "name": "stderr"
        },
        {
          "output_type": "stream",
          "text": [
            " 7/44 [===>..........................] - ETA: 5s - loss: 11.1017 - acc: 0.3112"
          ],
          "name": "stdout"
        },
        {
          "output_type": "stream",
          "text": [
            "Frame count is not OK for video /tmp/dataset/shooting/v_shooting_25_06.mpg, 12 total, 12 extracted\n"
          ],
          "name": "stderr"
        },
        {
          "output_type": "stream",
          "text": [
            "44/44 [==============================] - 7s 155ms/step - loss: 10.7802 - acc: 0.3312 - val_loss: 10.7454 - val_acc: 0.3333\n",
            "Epoch 9/50\n",
            " 1/44 [..............................] - ETA: 4s - loss: 12.0886 - acc: 0.2500"
          ],
          "name": "stdout"
        },
        {
          "output_type": "stream",
          "text": [
            "Frame count is not OK for video /tmp/dataset/shooting/v_shooting_24_01.mpg, 1 total, 1 extracted\n"
          ],
          "name": "stderr"
        },
        {
          "output_type": "stream",
          "text": [
            "11/44 [======>.......................] - ETA: 4s - loss: 9.8906 - acc: 0.3864"
          ],
          "name": "stdout"
        },
        {
          "output_type": "stream",
          "text": [
            "Frame count is not OK for video /tmp/dataset/shooting/v_shooting_16_05.mpg, 13 total, 13 extracted\n"
          ],
          "name": "stderr"
        },
        {
          "output_type": "stream",
          "text": [
            "18/44 [===========>..................] - ETA: 3s - loss: 10.1698 - acc: 0.3690"
          ],
          "name": "stdout"
        },
        {
          "output_type": "stream",
          "text": [
            "Frame count is not OK for video /tmp/dataset/shooting/v_shooting_25_06.mpg, 12 total, 12 extracted\n"
          ],
          "name": "stderr"
        },
        {
          "output_type": "stream",
          "text": [
            "44/44 [==============================] - 7s 155ms/step - loss: 10.8388 - acc: 0.3275 - val_loss: 10.7454 - val_acc: 0.3333\n",
            "Epoch 00009: early stopping\n"
          ],
          "name": "stdout"
        }
      ]
    },
    {
      "cell_type": "code",
      "metadata": {
        "id": "lsePFWda65Ma",
        "colab_type": "code",
        "colab": {
          "base_uri": "https://localhost:8080/",
          "height": 321
        },
        "outputId": "722ab522-2c9e-4412-c806-f4561000af08"
      },
      "source": [
        "plot_training(history)"
      ],
      "execution_count": 27,
      "outputs": [
        {
          "output_type": "display_data",
          "data": {
            "image/png": "[encoded data removed]",
            "text/plain": [
              "<Figure size 1152x288 with 2 Axes>"
            ]
          },
          "metadata": {
            "tags": []
          }
        }
      ]
    },
    {
      "cell_type": "markdown",
      "metadata": {
        "id": "HDQfrb3r6_sn",
        "colab_type": "text"
      },
      "source": [
        "# Using pre-trained ResNet3D"
      ]
    },
    {
      "cell_type": "code",
      "metadata": {
        "id": "1JAbwAdO7FZs",
        "colab_type": "code",
        "colab": {
          "base_uri": "https://localhost:8080/",
          "height": 343
        },
        "outputId": "af11c6dc-ade9-4451-f990-aad171ad8e19"
      },
      "source": [
        "!pip install git+https://github.com/JihongJu/keras-resnet3d.git"
      ],
      "execution_count": 28,
      "outputs": [
        {
          "output_type": "stream",
          "text": [
            "Collecting git+https://github.com/JihongJu/keras-resnet3d.git\n",
            "  Cloning https://github.com/JihongJu/keras-resnet3d.git to /tmp/pip-req-build-w_9khq2n\n",
            "  Running command git clone -q https://github.com/JihongJu/keras-resnet3d.git /tmp/pip-req-build-w_9khq2n\n",
            "  Running command git submodule update --init --recursive -q\n",
            "Requirement already satisfied (use --upgrade to upgrade): keras-resnet3d==0.0.1 from git+https://github.com/JihongJu/keras-resnet3d.git in /usr/local/lib/python3.6/dist-packages\n",
            "Requirement already satisfied: keras>=2.0.0 in /usr/local/lib/python3.6/dist-packages (from keras-resnet3d==0.0.1) (2.2.5)\n",
            "Requirement already satisfied: keras-preprocessing>=1.1.0 in /usr/local/lib/python3.6/dist-packages (from keras>=2.0.0->keras-resnet3d==0.0.1) (1.1.0)\n",
            "Requirement already satisfied: keras-applications>=1.0.8 in /usr/local/lib/python3.6/dist-packages (from keras>=2.0.0->keras-resnet3d==0.0.1) (1.0.8)\n",
            "Requirement already satisfied: six>=1.9.0 in /usr/local/lib/python3.6/dist-packages (from keras>=2.0.0->keras-resnet3d==0.0.1) (1.12.0)\n",
            "Requirement already satisfied: scipy>=0.14 in /usr/local/lib/python3.6/dist-packages (from keras>=2.0.0->keras-resnet3d==0.0.1) (1.4.1)\n",
            "Requirement already satisfied: h5py in /usr/local/lib/python3.6/dist-packages (from keras>=2.0.0->keras-resnet3d==0.0.1) (2.8.0)\n",
            "Requirement already satisfied: pyyaml in /usr/local/lib/python3.6/dist-packages (from keras>=2.0.0->keras-resnet3d==0.0.1) (3.13)\n",
            "Requirement already satisfied: numpy>=1.9.1 in /usr/local/lib/python3.6/dist-packages (from keras>=2.0.0->keras-resnet3d==0.0.1) (1.18.2)\n",
            "Building wheels for collected packages: keras-resnet3d\n",
            "  Building wheel for keras-resnet3d (setup.py) ... \u001b[?25l\u001b[?25hdone\n",
            "  Created wheel for keras-resnet3d: filename=keras_resnet3d-0.0.1-cp36-none-any.whl size=4773 sha256=e9740f5667401e8e4b41c2dda9362b445b786559474d305c39baad0c452b053c\n",
            "  Stored in directory: /tmp/pip-ephem-wheel-cache-01fthe72/wheels/98/fa/00/0dfe23f54c8f40a14c53f355effb4b198f7727d6d7f05be8b1\n",
            "Successfully built keras-resnet3d\n"
          ],
          "name": "stdout"
        }
      ]
    },
    {
      "cell_type": "code",
      "metadata": {
        "id": "U7zJXHS97N8A",
        "colab_type": "code",
        "colab": {}
      },
      "source": [
        "from resnet3d import Resnet3DBuilder"
      ],
      "execution_count": 0,
      "outputs": []
    },
    {
      "cell_type": "code",
      "metadata": {
        "id": "gJcO_yJa7RuY",
        "colab_type": "code",
        "colab": {
          "base_uri": "https://localhost:8080/",
          "height": 1000
        },
        "outputId": "aca8a863-40a9-4d5a-e4d0-e1ff9eb1a763"
      },
      "source": [
        "model = Resnet3DBuilder.build_resnet_50(input_shape, 11)\n",
        "model.summary()"
      ],
      "execution_count": 32,
      "outputs": [
        {
          "output_type": "stream",
          "text": [
            "Model: \"model_2\"\n",
            "__________________________________________________________________________________________________\n",
            "Layer (type)                    Output Shape         Param #     Connected to                     \n",
            "==================================================================================================\n",
            "input_2 (InputLayer)            (None, 15, 64, 64, 3 0                                            \n",
            "__________________________________________________________________________________________________\n",
            "conv3d_61 (Conv3D)              (None, 8, 32, 32, 64 65920       input_2[0][0]                    \n",
            "__________________________________________________________________________________________________\n",
            "batch_normalization_52 (BatchNo (None, 8, 32, 32, 64 256         conv3d_61[0][0]                  \n",
            "__________________________________________________________________________________________________\n",
            "activation_50 (Activation)      (None, 8, 32, 32, 64 0           batch_normalization_52[0][0]     \n",
            "__________________________________________________________________________________________________\n",
            "max_pooling3d_4 (MaxPooling3D)  (None, 4, 16, 16, 64 0           activation_50[0][0]              \n",
            "__________________________________________________________________________________________________\n",
            "conv3d_62 (Conv3D)              (None, 4, 16, 16, 64 4160        max_pooling3d_4[0][0]            \n",
            "__________________________________________________________________________________________________\n",
            "batch_normalization_53 (BatchNo (None, 4, 16, 16, 64 256         conv3d_62[0][0]                  \n",
            "__________________________________________________________________________________________________\n",
            "activation_51 (Activation)      (None, 4, 16, 16, 64 0           batch_normalization_53[0][0]     \n",
            "__________________________________________________________________________________________________\n",
            "conv3d_63 (Conv3D)              (None, 4, 16, 16, 64 110656      activation_51[0][0]              \n",
            "__________________________________________________________________________________________________\n",
            "batch_normalization_54 (BatchNo (None, 4, 16, 16, 64 256         conv3d_63[0][0]                  \n",
            "__________________________________________________________________________________________________\n",
            "activation_52 (Activation)      (None, 4, 16, 16, 64 0           batch_normalization_54[0][0]     \n",
            "__________________________________________________________________________________________________\n",
            "conv3d_65 (Conv3D)              (None, 4, 16, 16, 25 16640       max_pooling3d_4[0][0]            \n",
            "__________________________________________________________________________________________________\n",
            "conv3d_64 (Conv3D)              (None, 4, 16, 16, 25 16640       activation_52[0][0]              \n",
            "__________________________________________________________________________________________________\n",
            "add_17 (Add)                    (None, 4, 16, 16, 25 0           conv3d_65[0][0]                  \n",
            "                                                                 conv3d_64[0][0]                  \n",
            "__________________________________________________________________________________________________\n",
            "batch_normalization_55 (BatchNo (None, 4, 16, 16, 25 1024        add_17[0][0]                     \n",
            "__________________________________________________________________________________________________\n",
            "activation_53 (Activation)      (None, 4, 16, 16, 25 0           batch_normalization_55[0][0]     \n",
            "__________________________________________________________________________________________________\n",
            "conv3d_66 (Conv3D)              (None, 4, 16, 16, 64 16448       activation_53[0][0]              \n",
            "__________________________________________________________________________________________________\n",
            "batch_normalization_56 (BatchNo (None, 4, 16, 16, 64 256         conv3d_66[0][0]                  \n",
            "__________________________________________________________________________________________________\n",
            "activation_54 (Activation)      (None, 4, 16, 16, 64 0           batch_normalization_56[0][0]     \n",
            "__________________________________________________________________________________________________\n",
            "conv3d_67 (Conv3D)              (None, 4, 16, 16, 64 110656      activation_54[0][0]              \n",
            "__________________________________________________________________________________________________\n",
            "batch_normalization_57 (BatchNo (None, 4, 16, 16, 64 256         conv3d_67[0][0]                  \n",
            "__________________________________________________________________________________________________\n",
            "activation_55 (Activation)      (None, 4, 16, 16, 64 0           batch_normalization_57[0][0]     \n",
            "__________________________________________________________________________________________________\n",
            "conv3d_68 (Conv3D)              (None, 4, 16, 16, 25 16640       activation_55[0][0]              \n",
            "__________________________________________________________________________________________________\n",
            "add_18 (Add)                    (None, 4, 16, 16, 25 0           add_17[0][0]                     \n",
            "                                                                 conv3d_68[0][0]                  \n",
            "__________________________________________________________________________________________________\n",
            "batch_normalization_58 (BatchNo (None, 4, 16, 16, 25 1024        add_18[0][0]                     \n",
            "__________________________________________________________________________________________________\n",
            "activation_56 (Activation)      (None, 4, 16, 16, 25 0           batch_normalization_58[0][0]     \n",
            "__________________________________________________________________________________________________\n",
            "conv3d_69 (Conv3D)              (None, 4, 16, 16, 64 16448       activation_56[0][0]              \n",
            "__________________________________________________________________________________________________\n",
            "batch_normalization_59 (BatchNo (None, 4, 16, 16, 64 256         conv3d_69[0][0]                  \n",
            "__________________________________________________________________________________________________\n",
            "activation_57 (Activation)      (None, 4, 16, 16, 64 0           batch_normalization_59[0][0]     \n",
            "__________________________________________________________________________________________________\n",
            "conv3d_70 (Conv3D)              (None, 4, 16, 16, 64 110656      activation_57[0][0]              \n",
            "__________________________________________________________________________________________________\n",
            "batch_normalization_60 (BatchNo (None, 4, 16, 16, 64 256         conv3d_70[0][0]                  \n",
            "__________________________________________________________________________________________________\n",
            "activation_58 (Activation)      (None, 4, 16, 16, 64 0           batch_normalization_60[0][0]     \n",
            "__________________________________________________________________________________________________\n",
            "conv3d_71 (Conv3D)              (None, 4, 16, 16, 25 16640       activation_58[0][0]              \n",
            "__________________________________________________________________________________________________\n",
            "add_19 (Add)                    (None, 4, 16, 16, 25 0           add_18[0][0]                     \n",
            "                                                                 conv3d_71[0][0]                  \n",
            "__________________________________________________________________________________________________\n",
            "batch_normalization_61 (BatchNo (None, 4, 16, 16, 25 1024        add_19[0][0]                     \n",
            "__________________________________________________________________________________________________\n",
            "activation_59 (Activation)      (None, 4, 16, 16, 25 0           batch_normalization_61[0][0]     \n",
            "__________________________________________________________________________________________________\n",
            "conv3d_72 (Conv3D)              (None, 2, 8, 8, 128) 32896       activation_59[0][0]              \n",
            "__________________________________________________________________________________________________\n",
            "batch_normalization_62 (BatchNo (None, 2, 8, 8, 128) 512         conv3d_72[0][0]                  \n",
            "__________________________________________________________________________________________________\n",
            "activation_60 (Activation)      (None, 2, 8, 8, 128) 0           batch_normalization_62[0][0]     \n",
            "__________________________________________________________________________________________________\n",
            "conv3d_73 (Conv3D)              (None, 2, 8, 8, 128) 442496      activation_60[0][0]              \n",
            "__________________________________________________________________________________________________\n",
            "batch_normalization_63 (BatchNo (None, 2, 8, 8, 128) 512         conv3d_73[0][0]                  \n",
            "__________________________________________________________________________________________________\n",
            "activation_61 (Activation)      (None, 2, 8, 8, 128) 0           batch_normalization_63[0][0]     \n",
            "__________________________________________________________________________________________________\n",
            "conv3d_75 (Conv3D)              (None, 2, 8, 8, 512) 131584      add_19[0][0]                     \n",
            "__________________________________________________________________________________________________\n",
            "conv3d_74 (Conv3D)              (None, 2, 8, 8, 512) 66048       activation_61[0][0]              \n",
            "__________________________________________________________________________________________________\n",
            "add_20 (Add)                    (None, 2, 8, 8, 512) 0           conv3d_75[0][0]                  \n",
            "                                                                 conv3d_74[0][0]                  \n",
            "__________________________________________________________________________________________________\n",
            "batch_normalization_64 (BatchNo (None, 2, 8, 8, 512) 2048        add_20[0][0]                     \n",
            "__________________________________________________________________________________________________\n",
            "activation_62 (Activation)      (None, 2, 8, 8, 512) 0           batch_normalization_64[0][0]     \n",
            "__________________________________________________________________________________________________\n",
            "conv3d_76 (Conv3D)              (None, 2, 8, 8, 128) 65664       activation_62[0][0]              \n",
            "__________________________________________________________________________________________________\n",
            "batch_normalization_65 (BatchNo (None, 2, 8, 8, 128) 512         conv3d_76[0][0]                  \n",
            "__________________________________________________________________________________________________\n",
            "activation_63 (Activation)      (None, 2, 8, 8, 128) 0           batch_normalization_65[0][0]     \n",
            "__________________________________________________________________________________________________\n",
            "conv3d_77 (Conv3D)              (None, 2, 8, 8, 128) 442496      activation_63[0][0]              \n",
            "__________________________________________________________________________________________________\n",
            "batch_normalization_66 (BatchNo (None, 2, 8, 8, 128) 512         conv3d_77[0][0]                  \n",
            "__________________________________________________________________________________________________\n",
            "activation_64 (Activation)      (None, 2, 8, 8, 128) 0           batch_normalization_66[0][0]     \n",
            "__________________________________________________________________________________________________\n",
            "conv3d_78 (Conv3D)              (None, 2, 8, 8, 512) 66048       activation_64[0][0]              \n",
            "__________________________________________________________________________________________________\n",
            "add_21 (Add)                    (None, 2, 8, 8, 512) 0           add_20[0][0]                     \n",
            "                                                                 conv3d_78[0][0]                  \n",
            "__________________________________________________________________________________________________\n",
            "batch_normalization_67 (BatchNo (None, 2, 8, 8, 512) 2048        add_21[0][0]                     \n",
            "__________________________________________________________________________________________________\n",
            "activation_65 (Activation)      (None, 2, 8, 8, 512) 0           batch_normalization_67[0][0]     \n",
            "__________________________________________________________________________________________________\n",
            "conv3d_79 (Conv3D)              (None, 2, 8, 8, 128) 65664       activation_65[0][0]              \n",
            "__________________________________________________________________________________________________\n",
            "batch_normalization_68 (BatchNo (None, 2, 8, 8, 128) 512         conv3d_79[0][0]                  \n",
            "__________________________________________________________________________________________________\n",
            "activation_66 (Activation)      (None, 2, 8, 8, 128) 0           batch_normalization_68[0][0]     \n",
            "__________________________________________________________________________________________________\n",
            "conv3d_80 (Conv3D)              (None, 2, 8, 8, 128) 442496      activation_66[0][0]              \n",
            "__________________________________________________________________________________________________\n",
            "batch_normalization_69 (BatchNo (None, 2, 8, 8, 128) 512         conv3d_80[0][0]                  \n",
            "__________________________________________________________________________________________________\n",
            "activation_67 (Activation)      (None, 2, 8, 8, 128) 0           batch_normalization_69[0][0]     \n",
            "__________________________________________________________________________________________________\n",
            "conv3d_81 (Conv3D)              (None, 2, 8, 8, 512) 66048       activation_67[0][0]              \n",
            "__________________________________________________________________________________________________\n",
            "add_22 (Add)                    (None, 2, 8, 8, 512) 0           add_21[0][0]                     \n",
            "                                                                 conv3d_81[0][0]                  \n",
            "__________________________________________________________________________________________________\n",
            "batch_normalization_70 (BatchNo (None, 2, 8, 8, 512) 2048        add_22[0][0]                     \n",
            "__________________________________________________________________________________________________\n",
            "activation_68 (Activation)      (None, 2, 8, 8, 512) 0           batch_normalization_70[0][0]     \n",
            "__________________________________________________________________________________________________\n",
            "conv3d_82 (Conv3D)              (None, 2, 8, 8, 128) 65664       activation_68[0][0]              \n",
            "__________________________________________________________________________________________________\n",
            "batch_normalization_71 (BatchNo (None, 2, 8, 8, 128) 512         conv3d_82[0][0]                  \n",
            "__________________________________________________________________________________________________\n",
            "activation_69 (Activation)      (None, 2, 8, 8, 128) 0           batch_normalization_71[0][0]     \n",
            "__________________________________________________________________________________________________\n",
            "conv3d_83 (Conv3D)              (None, 2, 8, 8, 128) 442496      activation_69[0][0]              \n",
            "__________________________________________________________________________________________________\n",
            "batch_normalization_72 (BatchNo (None, 2, 8, 8, 128) 512         conv3d_83[0][0]                  \n",
            "__________________________________________________________________________________________________\n",
            "activation_70 (Activation)      (None, 2, 8, 8, 128) 0           batch_normalization_72[0][0]     \n",
            "__________________________________________________________________________________________________\n",
            "conv3d_84 (Conv3D)              (None, 2, 8, 8, 512) 66048       activation_70[0][0]              \n",
            "__________________________________________________________________________________________________\n",
            "add_23 (Add)                    (None, 2, 8, 8, 512) 0           add_22[0][0]                     \n",
            "                                                                 conv3d_84[0][0]                  \n",
            "__________________________________________________________________________________________________\n",
            "batch_normalization_73 (BatchNo (None, 2, 8, 8, 512) 2048        add_23[0][0]                     \n",
            "__________________________________________________________________________________________________\n",
            "activation_71 (Activation)      (None, 2, 8, 8, 512) 0           batch_normalization_73[0][0]     \n",
            "__________________________________________________________________________________________________\n",
            "conv3d_85 (Conv3D)              (None, 1, 4, 4, 256) 131328      activation_71[0][0]              \n",
            "__________________________________________________________________________________________________\n",
            "batch_normalization_74 (BatchNo (None, 1, 4, 4, 256) 1024        conv3d_85[0][0]                  \n",
            "__________________________________________________________________________________________________\n",
            "activation_72 (Activation)      (None, 1, 4, 4, 256) 0           batch_normalization_74[0][0]     \n",
            "__________________________________________________________________________________________________\n",
            "conv3d_86 (Conv3D)              (None, 1, 4, 4, 256) 1769728     activation_72[0][0]              \n",
            "__________________________________________________________________________________________________\n",
            "batch_normalization_75 (BatchNo (None, 1, 4, 4, 256) 1024        conv3d_86[0][0]                  \n",
            "__________________________________________________________________________________________________\n",
            "activation_73 (Activation)      (None, 1, 4, 4, 256) 0           batch_normalization_75[0][0]     \n",
            "__________________________________________________________________________________________________\n",
            "conv3d_88 (Conv3D)              (None, 1, 4, 4, 1024 525312      add_23[0][0]                     \n",
            "__________________________________________________________________________________________________\n",
            "conv3d_87 (Conv3D)              (None, 1, 4, 4, 1024 263168      activation_73[0][0]              \n",
            "__________________________________________________________________________________________________\n",
            "add_24 (Add)                    (None, 1, 4, 4, 1024 0           conv3d_88[0][0]                  \n",
            "                                                                 conv3d_87[0][0]                  \n",
            "__________________________________________________________________________________________________\n",
            "batch_normalization_76 (BatchNo (None, 1, 4, 4, 1024 4096        add_24[0][0]                     \n",
            "__________________________________________________________________________________________________\n",
            "activation_74 (Activation)      (None, 1, 4, 4, 1024 0           batch_normalization_76[0][0]     \n",
            "__________________________________________________________________________________________________\n",
            "conv3d_89 (Conv3D)              (None, 1, 4, 4, 256) 262400      activation_74[0][0]              \n",
            "__________________________________________________________________________________________________\n",
            "batch_normalization_77 (BatchNo (None, 1, 4, 4, 256) 1024        conv3d_89[0][0]                  \n",
            "__________________________________________________________________________________________________\n",
            "activation_75 (Activation)      (None, 1, 4, 4, 256) 0           batch_normalization_77[0][0]     \n",
            "__________________________________________________________________________________________________\n",
            "conv3d_90 (Conv3D)              (None, 1, 4, 4, 256) 1769728     activation_75[0][0]              \n",
            "__________________________________________________________________________________________________\n",
            "batch_normalization_78 (BatchNo (None, 1, 4, 4, 256) 1024        conv3d_90[0][0]                  \n",
            "__________________________________________________________________________________________________\n",
            "activation_76 (Activation)      (None, 1, 4, 4, 256) 0           batch_normalization_78[0][0]     \n",
            "__________________________________________________________________________________________________\n",
            "conv3d_91 (Conv3D)              (None, 1, 4, 4, 1024 263168      activation_76[0][0]              \n",
            "__________________________________________________________________________________________________\n",
            "add_25 (Add)                    (None, 1, 4, 4, 1024 0           add_24[0][0]                     \n",
            "                                                                 conv3d_91[0][0]                  \n",
            "__________________________________________________________________________________________________\n",
            "batch_normalization_79 (BatchNo (None, 1, 4, 4, 1024 4096        add_25[0][0]                     \n",
            "__________________________________________________________________________________________________\n",
            "activation_77 (Activation)      (None, 1, 4, 4, 1024 0           batch_normalization_79[0][0]     \n",
            "__________________________________________________________________________________________________\n",
            "conv3d_92 (Conv3D)              (None, 1, 4, 4, 256) 262400      activation_77[0][0]              \n",
            "__________________________________________________________________________________________________\n",
            "batch_normalization_80 (BatchNo (None, 1, 4, 4, 256) 1024        conv3d_92[0][0]                  \n",
            "__________________________________________________________________________________________________\n",
            "activation_78 (Activation)      (None, 1, 4, 4, 256) 0           batch_normalization_80[0][0]     \n",
            "__________________________________________________________________________________________________\n",
            "conv3d_93 (Conv3D)              (None, 1, 4, 4, 256) 1769728     activation_78[0][0]              \n",
            "__________________________________________________________________________________________________\n",
            "batch_normalization_81 (BatchNo (None, 1, 4, 4, 256) 1024        conv3d_93[0][0]                  \n",
            "__________________________________________________________________________________________________\n",
            "activation_79 (Activation)      (None, 1, 4, 4, 256) 0           batch_normalization_81[0][0]     \n",
            "__________________________________________________________________________________________________\n",
            "conv3d_94 (Conv3D)              (None, 1, 4, 4, 1024 263168      activation_79[0][0]              \n",
            "__________________________________________________________________________________________________\n",
            "add_26 (Add)                    (None, 1, 4, 4, 1024 0           add_25[0][0]                     \n",
            "                                                                 conv3d_94[0][0]                  \n",
            "__________________________________________________________________________________________________\n",
            "batch_normalization_82 (BatchNo (None, 1, 4, 4, 1024 4096        add_26[0][0]                     \n",
            "__________________________________________________________________________________________________\n",
            "activation_80 (Activation)      (None, 1, 4, 4, 1024 0           batch_normalization_82[0][0]     \n",
            "__________________________________________________________________________________________________\n",
            "conv3d_95 (Conv3D)              (None, 1, 4, 4, 256) 262400      activation_80[0][0]              \n",
            "__________________________________________________________________________________________________\n",
            "batch_normalization_83 (BatchNo (None, 1, 4, 4, 256) 1024        conv3d_95[0][0]                  \n",
            "__________________________________________________________________________________________________\n",
            "activation_81 (Activation)      (None, 1, 4, 4, 256) 0           batch_normalization_83[0][0]     \n",
            "__________________________________________________________________________________________________\n",
            "conv3d_96 (Conv3D)              (None, 1, 4, 4, 256) 1769728     activation_81[0][0]              \n",
            "__________________________________________________________________________________________________\n",
            "batch_normalization_84 (BatchNo (None, 1, 4, 4, 256) 1024        conv3d_96[0][0]                  \n",
            "__________________________________________________________________________________________________\n",
            "activation_82 (Activation)      (None, 1, 4, 4, 256) 0           batch_normalization_84[0][0]     \n",
            "__________________________________________________________________________________________________\n",
            "conv3d_97 (Conv3D)              (None, 1, 4, 4, 1024 263168      activation_82[0][0]              \n",
            "__________________________________________________________________________________________________\n",
            "add_27 (Add)                    (None, 1, 4, 4, 1024 0           add_26[0][0]                     \n",
            "                                                                 conv3d_97[0][0]                  \n",
            "__________________________________________________________________________________________________\n",
            "batch_normalization_85 (BatchNo (None, 1, 4, 4, 1024 4096        add_27[0][0]                     \n",
            "__________________________________________________________________________________________________\n",
            "activation_83 (Activation)      (None, 1, 4, 4, 1024 0           batch_normalization_85[0][0]     \n",
            "__________________________________________________________________________________________________\n",
            "conv3d_98 (Conv3D)              (None, 1, 4, 4, 256) 262400      activation_83[0][0]              \n",
            "__________________________________________________________________________________________________\n",
            "batch_normalization_86 (BatchNo (None, 1, 4, 4, 256) 1024        conv3d_98[0][0]                  \n",
            "__________________________________________________________________________________________________\n",
            "activation_84 (Activation)      (None, 1, 4, 4, 256) 0           batch_normalization_86[0][0]     \n",
            "__________________________________________________________________________________________________\n",
            "conv3d_99 (Conv3D)              (None, 1, 4, 4, 256) 1769728     activation_84[0][0]              \n",
            "__________________________________________________________________________________________________\n",
            "batch_normalization_87 (BatchNo (None, 1, 4, 4, 256) 1024        conv3d_99[0][0]                  \n",
            "__________________________________________________________________________________________________\n",
            "activation_85 (Activation)      (None, 1, 4, 4, 256) 0           batch_normalization_87[0][0]     \n",
            "__________________________________________________________________________________________________\n",
            "conv3d_100 (Conv3D)             (None, 1, 4, 4, 1024 263168      activation_85[0][0]              \n",
            "__________________________________________________________________________________________________\n",
            "add_28 (Add)                    (None, 1, 4, 4, 1024 0           add_27[0][0]                     \n",
            "                                                                 conv3d_100[0][0]                 \n",
            "__________________________________________________________________________________________________\n",
            "batch_normalization_88 (BatchNo (None, 1, 4, 4, 1024 4096        add_28[0][0]                     \n",
            "__________________________________________________________________________________________________\n",
            "activation_86 (Activation)      (None, 1, 4, 4, 1024 0           batch_normalization_88[0][0]     \n",
            "__________________________________________________________________________________________________\n",
            "conv3d_101 (Conv3D)             (None, 1, 4, 4, 256) 262400      activation_86[0][0]              \n",
            "__________________________________________________________________________________________________\n",
            "batch_normalization_89 (BatchNo (None, 1, 4, 4, 256) 1024        conv3d_101[0][0]                 \n",
            "__________________________________________________________________________________________________\n",
            "activation_87 (Activation)      (None, 1, 4, 4, 256) 0           batch_normalization_89[0][0]     \n",
            "__________________________________________________________________________________________________\n",
            "conv3d_102 (Conv3D)             (None, 1, 4, 4, 256) 1769728     activation_87[0][0]              \n",
            "__________________________________________________________________________________________________\n",
            "batch_normalization_90 (BatchNo (None, 1, 4, 4, 256) 1024        conv3d_102[0][0]                 \n",
            "__________________________________________________________________________________________________\n",
            "activation_88 (Activation)      (None, 1, 4, 4, 256) 0           batch_normalization_90[0][0]     \n",
            "__________________________________________________________________________________________________\n",
            "conv3d_103 (Conv3D)             (None, 1, 4, 4, 1024 263168      activation_88[0][0]              \n",
            "__________________________________________________________________________________________________\n",
            "add_29 (Add)                    (None, 1, 4, 4, 1024 0           add_28[0][0]                     \n",
            "                                                                 conv3d_103[0][0]                 \n",
            "__________________________________________________________________________________________________\n",
            "batch_normalization_91 (BatchNo (None, 1, 4, 4, 1024 4096        add_29[0][0]                     \n",
            "__________________________________________________________________________________________________\n",
            "activation_89 (Activation)      (None, 1, 4, 4, 1024 0           batch_normalization_91[0][0]     \n",
            "__________________________________________________________________________________________________\n",
            "conv3d_104 (Conv3D)             (None, 1, 2, 2, 512) 524800      activation_89[0][0]              \n",
            "__________________________________________________________________________________________________\n",
            "batch_normalization_92 (BatchNo (None, 1, 2, 2, 512) 2048        conv3d_104[0][0]                 \n",
            "__________________________________________________________________________________________________\n",
            "activation_90 (Activation)      (None, 1, 2, 2, 512) 0           batch_normalization_92[0][0]     \n",
            "__________________________________________________________________________________________________\n",
            "conv3d_105 (Conv3D)             (None, 1, 2, 2, 512) 7078400     activation_90[0][0]              \n",
            "__________________________________________________________________________________________________\n",
            "batch_normalization_93 (BatchNo (None, 1, 2, 2, 512) 2048        conv3d_105[0][0]                 \n",
            "__________________________________________________________________________________________________\n",
            "activation_91 (Activation)      (None, 1, 2, 2, 512) 0           batch_normalization_93[0][0]     \n",
            "__________________________________________________________________________________________________\n",
            "conv3d_107 (Conv3D)             (None, 1, 2, 2, 2048 2099200     add_29[0][0]                     \n",
            "__________________________________________________________________________________________________\n",
            "conv3d_106 (Conv3D)             (None, 1, 2, 2, 2048 1050624     activation_91[0][0]              \n",
            "__________________________________________________________________________________________________\n",
            "add_30 (Add)                    (None, 1, 2, 2, 2048 0           conv3d_107[0][0]                 \n",
            "                                                                 conv3d_106[0][0]                 \n",
            "__________________________________________________________________________________________________\n",
            "batch_normalization_94 (BatchNo (None, 1, 2, 2, 2048 8192        add_30[0][0]                     \n",
            "__________________________________________________________________________________________________\n",
            "activation_92 (Activation)      (None, 1, 2, 2, 2048 0           batch_normalization_94[0][0]     \n",
            "__________________________________________________________________________________________________\n",
            "conv3d_108 (Conv3D)             (None, 1, 2, 2, 512) 1049088     activation_92[0][0]              \n",
            "__________________________________________________________________________________________________\n",
            "batch_normalization_95 (BatchNo (None, 1, 2, 2, 512) 2048        conv3d_108[0][0]                 \n",
            "__________________________________________________________________________________________________\n",
            "activation_93 (Activation)      (None, 1, 2, 2, 512) 0           batch_normalization_95[0][0]     \n",
            "__________________________________________________________________________________________________\n",
            "conv3d_109 (Conv3D)             (None, 1, 2, 2, 512) 7078400     activation_93[0][0]              \n",
            "__________________________________________________________________________________________________\n",
            "batch_normalization_96 (BatchNo (None, 1, 2, 2, 512) 2048        conv3d_109[0][0]                 \n",
            "__________________________________________________________________________________________________\n",
            "activation_94 (Activation)      (None, 1, 2, 2, 512) 0           batch_normalization_96[0][0]     \n",
            "__________________________________________________________________________________________________\n",
            "conv3d_110 (Conv3D)             (None, 1, 2, 2, 2048 1050624     activation_94[0][0]              \n",
            "__________________________________________________________________________________________________\n",
            "add_31 (Add)                    (None, 1, 2, 2, 2048 0           add_30[0][0]                     \n",
            "                                                                 conv3d_110[0][0]                 \n",
            "__________________________________________________________________________________________________\n",
            "batch_normalization_97 (BatchNo (None, 1, 2, 2, 2048 8192        add_31[0][0]                     \n",
            "__________________________________________________________________________________________________\n",
            "activation_95 (Activation)      (None, 1, 2, 2, 2048 0           batch_normalization_97[0][0]     \n",
            "__________________________________________________________________________________________________\n",
            "conv3d_111 (Conv3D)             (None, 1, 2, 2, 512) 1049088     activation_95[0][0]              \n",
            "__________________________________________________________________________________________________\n",
            "batch_normalization_98 (BatchNo (None, 1, 2, 2, 512) 2048        conv3d_111[0][0]                 \n",
            "__________________________________________________________________________________________________\n",
            "activation_96 (Activation)      (None, 1, 2, 2, 512) 0           batch_normalization_98[0][0]     \n",
            "__________________________________________________________________________________________________\n",
            "conv3d_112 (Conv3D)             (None, 1, 2, 2, 512) 7078400     activation_96[0][0]              \n",
            "__________________________________________________________________________________________________\n",
            "batch_normalization_99 (BatchNo (None, 1, 2, 2, 512) 2048        conv3d_112[0][0]                 \n",
            "__________________________________________________________________________________________________\n",
            "activation_97 (Activation)      (None, 1, 2, 2, 512) 0           batch_normalization_99[0][0]     \n",
            "__________________________________________________________________________________________________\n",
            "conv3d_113 (Conv3D)             (None, 1, 2, 2, 2048 1050624     activation_97[0][0]              \n",
            "__________________________________________________________________________________________________\n",
            "add_32 (Add)                    (None, 1, 2, 2, 2048 0           add_31[0][0]                     \n",
            "                                                                 conv3d_113[0][0]                 \n",
            "__________________________________________________________________________________________________\n",
            "batch_normalization_100 (BatchN (None, 1, 2, 2, 2048 8192        add_32[0][0]                     \n",
            "__________________________________________________________________________________________________\n",
            "activation_98 (Activation)      (None, 1, 2, 2, 2048 0           batch_normalization_100[0][0]    \n",
            "__________________________________________________________________________________________________\n",
            "average_pooling3d_2 (AveragePoo (None, 1, 1, 1, 2048 0           activation_98[0][0]              \n",
            "__________________________________________________________________________________________________\n",
            "flatten_3 (Flatten)             (None, 2048)         0           average_pooling3d_2[0][0]        \n",
            "__________________________________________________________________________________________________\n",
            "dense_7 (Dense)                 (None, 11)           22539       flatten_3[0][0]                  \n",
            "==================================================================================================\n",
            "Total params: 46,285,835\n",
            "Trainable params: 46,240,395\n",
            "Non-trainable params: 45,440\n",
            "__________________________________________________________________________________________________\n"
          ],
          "name": "stdout"
        }
      ]
    },
    {
      "cell_type": "code",
      "metadata": {
        "id": "D_pmjDVn7oop",
        "colab_type": "code",
        "colab": {
          "base_uri": "https://localhost:8080/",
          "height": 1000
        },
        "outputId": "f2599132-8d66-458a-c6ca-648de497d5c1"
      },
      "source": [
        "# sgd = optimizers.SGD(lr=0.0001)\n",
        "adam = optimizers.Adam(lr=0.001)\n",
        "\n",
        "#model.compile(loss = 'categorical_crossentropy', optimizer='adam', metrics=['accuracy'])\n",
        "model.compile(loss = 'categorical_crossentropy', optimizer = adam, metrics=['accuracy'])\n",
        "\n",
        "classweight = class_weight.compute_class_weight('balanced', np.unique(train_generator.classes), train_generator.classes)\n",
        "\n",
        "history = model.fit_generator(train_generator, \n",
        "                              steps_per_epoch = (train_generator.files_count // train_generator.batch_size), \n",
        "                              epochs = 50, \n",
        "                              validation_data = val_generator, \n",
        "                              validation_steps = (val_generator.files_count // val_generator.batch_size),\n",
        "                              class_weight=classweight,\n",
        "                              verbose = 1, \n",
        "                              callbacks=callbacks)"
      ],
      "execution_count": 33,
      "outputs": [
        {
          "output_type": "stream",
          "text": [
            "Frame count is not OK for video /tmp/dataset/shooting/v_shooting_24_01.mpg, 1 total, 1 extracted\n"
          ],
          "name": "stderr"
        },
        {
          "output_type": "stream",
          "text": [
            "Epoch 1/50\n",
            "22/44 [==============>...............] - ETA: 27s - loss: 6.6687 - acc: 0.5114"
          ],
          "name": "stdout"
        },
        {
          "output_type": "stream",
          "text": [
            "Frame count is not OK for video /tmp/dataset/shooting/v_shooting_25_06.mpg, 12 total, 12 extracted\n"
          ],
          "name": "stderr"
        },
        {
          "output_type": "stream",
          "text": [
            "32/44 [====================>.........] - ETA: 11s - loss: 6.5500 - acc: 0.5391"
          ],
          "name": "stdout"
        },
        {
          "output_type": "stream",
          "text": [
            "Frame count is not OK for video /tmp/dataset/shooting/v_shooting_16_05.mpg, 13 total, 13 extracted\n"
          ],
          "name": "stderr"
        },
        {
          "output_type": "stream",
          "text": [
            "44/44 [==============================] - 36s 811ms/step - loss: 6.3469 - acc: 0.5751 - val_loss: 13.7596 - val_acc: 0.3103\n"
          ],
          "name": "stdout"
        },
        {
          "output_type": "stream",
          "text": [
            "Frame count is not OK for video /tmp/dataset/shooting/v_shooting_24_01.mpg, 1 total, 1 extracted\n"
          ],
          "name": "stderr"
        },
        {
          "output_type": "stream",
          "text": [
            "Epoch 2/50\n",
            "18/44 [===========>..................] - ETA: 6s - loss: 5.5936 - acc: 0.6528"
          ],
          "name": "stdout"
        },
        {
          "output_type": "stream",
          "text": [
            "Frame count is not OK for video /tmp/dataset/shooting/v_shooting_16_05.mpg, 13 total, 13 extracted\n"
          ],
          "name": "stderr"
        },
        {
          "output_type": "stream",
          "text": [
            "29/44 [==================>...........] - ETA: 3s - loss: 5.5147 - acc: 0.6853"
          ],
          "name": "stdout"
        },
        {
          "output_type": "stream",
          "text": [
            "Frame count is not OK for video /tmp/dataset/shooting/v_shooting_25_06.mpg, 12 total, 12 extracted\n"
          ],
          "name": "stderr"
        },
        {
          "output_type": "stream",
          "text": [
            "44/44 [==============================] - 11s 241ms/step - loss: 5.4072 - acc: 0.6964 - val_loss: 6.8906 - val_acc: 0.4713\n"
          ],
          "name": "stdout"
        },
        {
          "output_type": "stream",
          "text": [
            "Frame count is not OK for video /tmp/dataset/shooting/v_shooting_24_01.mpg, 1 total, 1 extracted\n",
            "Frame count is not OK for video /tmp/dataset/shooting/v_shooting_25_06.mpg, 12 total, 12 extracted\n"
          ],
          "name": "stderr"
        },
        {
          "output_type": "stream",
          "text": [
            "Epoch 3/50\n",
            "27/44 [=================>............] - ETA: 4s - loss: 4.9661 - acc: 0.7910"
          ],
          "name": "stdout"
        },
        {
          "output_type": "stream",
          "text": [
            "Frame count is not OK for video /tmp/dataset/shooting/v_shooting_16_05.mpg, 13 total, 13 extracted\n"
          ],
          "name": "stderr"
        },
        {
          "output_type": "stream",
          "text": [
            "44/44 [==============================] - 11s 245ms/step - loss: 4.9298 - acc: 0.7715 - val_loss: 7.8007 - val_acc: 0.3678\n"
          ],
          "name": "stdout"
        },
        {
          "output_type": "stream",
          "text": [
            "Frame count is not OK for video /tmp/dataset/shooting/v_shooting_24_01.mpg, 1 total, 1 extracted\n"
          ],
          "name": "stderr"
        },
        {
          "output_type": "stream",
          "text": [
            "Epoch 4/50\n",
            "11/44 [======>.......................] - ETA: 8s - loss: 4.6423 - acc: 0.7841"
          ],
          "name": "stdout"
        },
        {
          "output_type": "stream",
          "text": [
            "Frame count is not OK for video /tmp/dataset/shooting/v_shooting_16_05.mpg, 13 total, 13 extracted\n"
          ],
          "name": "stderr"
        },
        {
          "output_type": "stream",
          "text": [
            "36/44 [=======================>......] - ETA: 1s - loss: 4.4557 - acc: 0.8264"
          ],
          "name": "stdout"
        },
        {
          "output_type": "stream",
          "text": [
            "Frame count is not OK for video /tmp/dataset/shooting/v_shooting_25_06.mpg, 12 total, 12 extracted\n"
          ],
          "name": "stderr"
        },
        {
          "output_type": "stream",
          "text": [
            "44/44 [==============================] - 11s 255ms/step - loss: 4.4427 - acc: 0.8234 - val_loss: 5.9220 - val_acc: 0.5172\n"
          ],
          "name": "stdout"
        },
        {
          "output_type": "stream",
          "text": [
            "Frame count is not OK for video /tmp/dataset/shooting/v_shooting_24_01.mpg, 1 total, 1 extracted\n"
          ],
          "name": "stderr"
        },
        {
          "output_type": "stream",
          "text": [
            "Epoch 5/50\n"
          ],
          "name": "stdout"
        },
        {
          "output_type": "stream",
          "text": [
            "Frame count is not OK for video /tmp/dataset/shooting/v_shooting_16_05.mpg, 13 total, 13 extracted\n"
          ],
          "name": "stderr"
        },
        {
          "output_type": "stream",
          "text": [
            " 8/44 [====>.........................] - ETA: 8s - loss: 4.0786 - acc: 0.8906"
          ],
          "name": "stdout"
        },
        {
          "output_type": "stream",
          "text": [
            "Frame count is not OK for video /tmp/dataset/shooting/v_shooting_25_06.mpg, 12 total, 12 extracted\n"
          ],
          "name": "stderr"
        },
        {
          "output_type": "stream",
          "text": [
            "44/44 [==============================] - 11s 254ms/step - loss: 4.1504 - acc: 0.8178 - val_loss: 5.1316 - val_acc: 0.5862\n"
          ],
          "name": "stdout"
        },
        {
          "output_type": "stream",
          "text": [
            "Frame count is not OK for video /tmp/dataset/shooting/v_shooting_24_01.mpg, 1 total, 1 extracted\n"
          ],
          "name": "stderr"
        },
        {
          "output_type": "stream",
          "text": [
            "Epoch 6/50\n",
            "16/44 [=========>....................] - ETA: 6s - loss: 4.0095 - acc: 0.7812"
          ],
          "name": "stdout"
        },
        {
          "output_type": "stream",
          "text": [
            "Frame count is not OK for video /tmp/dataset/shooting/v_shooting_25_06.mpg, 12 total, 12 extracted\n"
          ],
          "name": "stderr"
        },
        {
          "output_type": "stream",
          "text": [
            "25/44 [================>.............] - ETA: 4s - loss: 4.0173 - acc: 0.7686"
          ],
          "name": "stdout"
        },
        {
          "output_type": "stream",
          "text": [
            "Frame count is not OK for video /tmp/dataset/shooting/v_shooting_16_05.mpg, 13 total, 13 extracted\n"
          ],
          "name": "stderr"
        },
        {
          "output_type": "stream",
          "text": [
            "44/44 [==============================] - 11s 248ms/step - loss: 3.9545 - acc: 0.7829 - val_loss: 8.7090 - val_acc: 0.4943\n"
          ],
          "name": "stdout"
        },
        {
          "output_type": "stream",
          "text": [
            "Frame count is not OK for video /tmp/dataset/shooting/v_shooting_24_01.mpg, 1 total, 1 extracted\n"
          ],
          "name": "stderr"
        },
        {
          "output_type": "stream",
          "text": [
            "Epoch 7/50\n",
            " 3/44 [=>............................] - ETA: 9s - loss: 4.1010 - acc: 0.7083"
          ],
          "name": "stdout"
        },
        {
          "output_type": "stream",
          "text": [
            "Frame count is not OK for video /tmp/dataset/shooting/v_shooting_25_06.mpg, 12 total, 12 extracted\n"
          ],
          "name": "stderr"
        },
        {
          "output_type": "stream",
          "text": [
            "27/44 [=================>............] - ETA: 4s - loss: 3.6988 - acc: 0.8234"
          ],
          "name": "stdout"
        },
        {
          "output_type": "stream",
          "text": [
            "Frame count is not OK for video /tmp/dataset/shooting/v_shooting_16_05.mpg, 13 total, 13 extracted\n"
          ],
          "name": "stderr"
        },
        {
          "output_type": "stream",
          "text": [
            "44/44 [==============================] - 11s 256ms/step - loss: 3.6217 - acc: 0.8219 - val_loss: 5.7230 - val_acc: 0.5057\n"
          ],
          "name": "stdout"
        },
        {
          "output_type": "stream",
          "text": [
            "Frame count is not OK for video /tmp/dataset/shooting/v_shooting_24_01.mpg, 1 total, 1 extracted\n"
          ],
          "name": "stderr"
        },
        {
          "output_type": "stream",
          "text": [
            "Epoch 8/50\n",
            "15/44 [=========>....................] - ETA: 7s - loss: 3.5221 - acc: 0.7917"
          ],
          "name": "stdout"
        },
        {
          "output_type": "stream",
          "text": [
            "Frame count is not OK for video /tmp/dataset/shooting/v_shooting_25_06.mpg, 12 total, 12 extracted\n"
          ],
          "name": "stderr"
        },
        {
          "output_type": "stream",
          "text": [
            "35/44 [======================>.......] - ETA: 2s - loss: 3.4222 - acc: 0.7995"
          ],
          "name": "stdout"
        },
        {
          "output_type": "stream",
          "text": [
            "Frame count is not OK for video /tmp/dataset/shooting/v_shooting_16_05.mpg, 13 total, 13 extracted\n"
          ],
          "name": "stderr"
        },
        {
          "output_type": "stream",
          "text": [
            "44/44 [==============================] - 11s 249ms/step - loss: 3.4195 - acc: 0.7890 - val_loss: 4.5352 - val_acc: 0.5862\n"
          ],
          "name": "stdout"
        },
        {
          "output_type": "stream",
          "text": [
            "Frame count is not OK for video /tmp/dataset/shooting/v_shooting_24_01.mpg, 1 total, 1 extracted\n",
            "Frame count is not OK for video /tmp/dataset/shooting/v_shooting_25_06.mpg, 12 total, 12 extracted\n"
          ],
          "name": "stderr"
        },
        {
          "output_type": "stream",
          "text": [
            "Epoch 9/50\n",
            "21/44 [=============>................] - ETA: 5s - loss: 3.1795 - acc: 0.8333"
          ],
          "name": "stdout"
        },
        {
          "output_type": "stream",
          "text": [
            "Frame count is not OK for video /tmp/dataset/shooting/v_shooting_16_05.mpg, 13 total, 13 extracted\n"
          ],
          "name": "stderr"
        },
        {
          "output_type": "stream",
          "text": [
            "44/44 [==============================] - 11s 250ms/step - loss: 3.2473 - acc: 0.7983 - val_loss: 3.7902 - val_acc: 0.6322\n"
          ],
          "name": "stdout"
        },
        {
          "output_type": "stream",
          "text": [
            "Frame count is not OK for video /tmp/dataset/shooting/v_shooting_24_01.mpg, 1 total, 1 extracted\n"
          ],
          "name": "stderr"
        },
        {
          "output_type": "stream",
          "text": [
            "Epoch 10/50\n",
            " 4/44 [=>............................] - ETA: 10s - loss: 3.1365 - acc: 0.7188"
          ],
          "name": "stdout"
        },
        {
          "output_type": "stream",
          "text": [
            "Frame count is not OK for video /tmp/dataset/shooting/v_shooting_25_06.mpg, 12 total, 12 extracted\n"
          ],
          "name": "stderr"
        },
        {
          "output_type": "stream",
          "text": [
            "10/44 [=====>........................] - ETA: 8s - loss: 2.9762 - acc: 0.8000"
          ],
          "name": "stdout"
        },
        {
          "output_type": "stream",
          "text": [
            "Frame count is not OK for video /tmp/dataset/shooting/v_shooting_16_05.mpg, 13 total, 13 extracted\n"
          ],
          "name": "stderr"
        },
        {
          "output_type": "stream",
          "text": [
            "44/44 [==============================] - 11s 252ms/step - loss: 3.0108 - acc: 0.8320 - val_loss: 3.5755 - val_acc: 0.6667\n"
          ],
          "name": "stdout"
        },
        {
          "output_type": "stream",
          "text": [
            "Frame count is not OK for video /tmp/dataset/shooting/v_shooting_24_01.mpg, 1 total, 1 extracted\n"
          ],
          "name": "stderr"
        },
        {
          "output_type": "stream",
          "text": [
            "Epoch 11/50\n",
            "23/44 [==============>...............] - ETA: 5s - loss: 2.8417 - acc: 0.8261"
          ],
          "name": "stdout"
        },
        {
          "output_type": "stream",
          "text": [
            "Frame count is not OK for video /tmp/dataset/shooting/v_shooting_25_06.mpg, 12 total, 12 extracted\n"
          ],
          "name": "stderr"
        },
        {
          "output_type": "stream",
          "text": [
            "25/44 [================>.............] - ETA: 4s - loss: 2.8353 - acc: 0.8300"
          ],
          "name": "stdout"
        },
        {
          "output_type": "stream",
          "text": [
            "Frame count is not OK for video /tmp/dataset/shooting/v_shooting_16_05.mpg, 13 total, 13 extracted\n"
          ],
          "name": "stderr"
        },
        {
          "output_type": "stream",
          "text": [
            "44/44 [==============================] - 11s 245ms/step - loss: 2.7787 - acc: 0.8409 - val_loss: 5.8079 - val_acc: 0.3333\n"
          ],
          "name": "stdout"
        },
        {
          "output_type": "stream",
          "text": [
            "Frame count is not OK for video /tmp/dataset/shooting/v_shooting_24_01.mpg, 1 total, 1 extracted\n"
          ],
          "name": "stderr"
        },
        {
          "output_type": "stream",
          "text": [
            "Epoch 12/50\n",
            "11/44 [======>.......................] - ETA: 8s - loss: 2.5695 - acc: 0.9091"
          ],
          "name": "stdout"
        },
        {
          "output_type": "stream",
          "text": [
            "Frame count is not OK for video /tmp/dataset/shooting/v_shooting_25_06.mpg, 12 total, 12 extracted\n"
          ],
          "name": "stderr"
        },
        {
          "output_type": "stream",
          "text": [
            "21/44 [=============>................] - ETA: 5s - loss: 2.6900 - acc: 0.8733"
          ],
          "name": "stdout"
        },
        {
          "output_type": "stream",
          "text": [
            "Frame count is not OK for video /tmp/dataset/shooting/v_shooting_16_05.mpg, 13 total, 13 extracted\n"
          ],
          "name": "stderr"
        },
        {
          "output_type": "stream",
          "text": [
            "44/44 [==============================] - 11s 255ms/step - loss: 2.7362 - acc: 0.8166 - val_loss: 2.9962 - val_acc: 0.7356\n"
          ],
          "name": "stdout"
        },
        {
          "output_type": "stream",
          "text": [
            "Frame count is not OK for video /tmp/dataset/shooting/v_shooting_24_01.mpg, 1 total, 1 extracted\n"
          ],
          "name": "stderr"
        },
        {
          "output_type": "stream",
          "text": [
            "Epoch 13/50\n",
            "22/44 [==============>...............] - ETA: 5s - loss: 2.5706 - acc: 0.8409"
          ],
          "name": "stdout"
        },
        {
          "output_type": "stream",
          "text": [
            "Frame count is not OK for video /tmp/dataset/shooting/v_shooting_25_06.mpg, 12 total, 12 extracted\n"
          ],
          "name": "stderr"
        },
        {
          "output_type": "stream",
          "text": [
            "34/44 [======================>.......] - ETA: 2s - loss: 2.4765 - acc: 0.8566"
          ],
          "name": "stdout"
        },
        {
          "output_type": "stream",
          "text": [
            "Frame count is not OK for video /tmp/dataset/shooting/v_shooting_16_05.mpg, 13 total, 13 extracted\n"
          ],
          "name": "stderr"
        },
        {
          "output_type": "stream",
          "text": [
            "44/44 [==============================] - 11s 249ms/step - loss: 2.5094 - acc: 0.8405 - val_loss: 3.0653 - val_acc: 0.6207\n"
          ],
          "name": "stdout"
        },
        {
          "output_type": "stream",
          "text": [
            "Frame count is not OK for video /tmp/dataset/shooting/v_shooting_24_01.mpg, 1 total, 1 extracted\n"
          ],
          "name": "stderr"
        },
        {
          "output_type": "stream",
          "text": [
            "Epoch 14/50\n",
            "11/44 [======>.......................] - ETA: 8s - loss: 2.6397 - acc: 0.7500"
          ],
          "name": "stdout"
        },
        {
          "output_type": "stream",
          "text": [
            "Frame count is not OK for video /tmp/dataset/shooting/v_shooting_25_06.mpg, 12 total, 12 extracted\n"
          ],
          "name": "stderr"
        },
        {
          "output_type": "stream",
          "text": [
            "28/44 [==================>...........] - ETA: 3s - loss: 2.5322 - acc: 0.7870"
          ],
          "name": "stdout"
        },
        {
          "output_type": "stream",
          "text": [
            "Frame count is not OK for video /tmp/dataset/shooting/v_shooting_16_05.mpg, 13 total, 13 extracted\n"
          ],
          "name": "stderr"
        },
        {
          "output_type": "stream",
          "text": [
            "44/44 [==============================] - 11s 254ms/step - loss: 2.4568 - acc: 0.8247 - val_loss: 2.6504 - val_acc: 0.7816\n"
          ],
          "name": "stdout"
        },
        {
          "output_type": "stream",
          "text": [
            "Frame count is not OK for video /tmp/dataset/shooting/v_shooting_24_01.mpg, 1 total, 1 extracted\n"
          ],
          "name": "stderr"
        },
        {
          "output_type": "stream",
          "text": [
            "Epoch 15/50\n",
            " 6/44 [===>..........................] - ETA: 10s - loss: 2.2528 - acc: 0.8958"
          ],
          "name": "stdout"
        },
        {
          "output_type": "stream",
          "text": [
            "Frame count is not OK for video /tmp/dataset/shooting/v_shooting_25_06.mpg, 12 total, 12 extracted\n"
          ],
          "name": "stderr"
        },
        {
          "output_type": "stream",
          "text": [
            "17/44 [==========>...................] - ETA: 6s - loss: 2.4487 - acc: 0.8277"
          ],
          "name": "stdout"
        },
        {
          "output_type": "stream",
          "text": [
            "Frame count is not OK for video /tmp/dataset/shooting/v_shooting_16_05.mpg, 13 total, 13 extracted\n"
          ],
          "name": "stderr"
        },
        {
          "output_type": "stream",
          "text": [
            "43/44 [============================>.] - ETA: 0s - loss: 2.3932 - acc: 0.8177"
          ],
          "name": "stdout"
        },
        {
          "output_type": "stream",
          "text": [
            "Frame count is not OK for video /tmp/dataset/shooting/v_shooting_16_05.mpg, 13 total, 13 extracted\n"
          ],
          "name": "stderr"
        },
        {
          "output_type": "stream",
          "text": [
            "\b\b\b\b\b\b\b\b\b\b\b\b\b\b\b\b\b\b\b\b\b\b\b\b\b\b\b\b\b\b\b\b\b\b\b\b\b\b\b\b\b\b\b\b\b\b\b\b\b\b\b\b\b\b\b\b\b\b\b\b\b\b\b\b\b\b\b\b\b\b\b\b\b\b\b\b\b\r44/44 [==============================] - 11s 253ms/step - loss: 2.3878 - acc: 0.8162 - val_loss: 2.3017 - val_acc: 0.8046\n"
          ],
          "name": "stdout"
        },
        {
          "output_type": "stream",
          "text": [
            "Frame count is not OK for video /tmp/dataset/shooting/v_shooting_24_01.mpg, 1 total, 1 extracted\n"
          ],
          "name": "stderr"
        },
        {
          "output_type": "stream",
          "text": [
            "Epoch 16/50\n",
            "21/44 [=============>................] - ETA: 5s - loss: 2.3086 - acc: 0.8197"
          ],
          "name": "stdout"
        },
        {
          "output_type": "stream",
          "text": [
            "Frame count is not OK for video /tmp/dataset/shooting/v_shooting_25_06.mpg, 12 total, 12 extracted\n"
          ],
          "name": "stderr"
        },
        {
          "output_type": "stream",
          "text": [
            "44/44 [==============================] - 11s 246ms/step - loss: 2.2304 - acc: 0.8454 - val_loss: 2.9749 - val_acc: 0.6667\n"
          ],
          "name": "stdout"
        },
        {
          "output_type": "stream",
          "text": [
            "Frame count is not OK for video /tmp/dataset/shooting/v_shooting_24_01.mpg, 1 total, 1 extracted\n"
          ],
          "name": "stderr"
        },
        {
          "output_type": "stream",
          "text": [
            "Epoch 17/50\n",
            " 6/44 [===>..........................] - ETA: 9s - loss: 1.8886 - acc: 0.9167 "
          ],
          "name": "stdout"
        },
        {
          "output_type": "stream",
          "text": [
            "Frame count is not OK for video /tmp/dataset/shooting/v_shooting_25_06.mpg, 12 total, 12 extracted\n"
          ],
          "name": "stderr"
        },
        {
          "output_type": "stream",
          "text": [
            "39/44 [=========================>....] - ETA: 1s - loss: 2.0835 - acc: 0.8356"
          ],
          "name": "stdout"
        },
        {
          "output_type": "stream",
          "text": [
            "Frame count is not OK for video /tmp/dataset/shooting/v_shooting_16_05.mpg, 13 total, 13 extracted\n"
          ],
          "name": "stderr"
        },
        {
          "output_type": "stream",
          "text": [
            "44/44 [==============================] - 11s 255ms/step - loss: 2.0669 - acc: 0.8429 - val_loss: 3.3680 - val_acc: 0.4943\n"
          ],
          "name": "stdout"
        },
        {
          "output_type": "stream",
          "text": [
            "Frame count is not OK for video /tmp/dataset/shooting/v_shooting_24_01.mpg, 1 total, 1 extracted\n"
          ],
          "name": "stderr"
        },
        {
          "output_type": "stream",
          "text": [
            "Epoch 18/50\n",
            "18/44 [===========>..................] - ETA: 6s - loss: 1.8346 - acc: 0.9236"
          ],
          "name": "stdout"
        },
        {
          "output_type": "stream",
          "text": [
            "Frame count is not OK for video /tmp/dataset/shooting/v_shooting_16_05.mpg, 13 total, 13 extracted\n"
          ],
          "name": "stderr"
        },
        {
          "output_type": "stream",
          "text": [
            "25/44 [================>.............] - ETA: 4s - loss: 1.8290 - acc: 0.9136"
          ],
          "name": "stdout"
        },
        {
          "output_type": "stream",
          "text": [
            "Frame count is not OK for video /tmp/dataset/shooting/v_shooting_25_06.mpg, 12 total, 12 extracted\n"
          ],
          "name": "stderr"
        },
        {
          "output_type": "stream",
          "text": [
            "44/44 [==============================] - 11s 244ms/step - loss: 1.8771 - acc: 0.9054 - val_loss: 2.9810 - val_acc: 0.6667\n"
          ],
          "name": "stdout"
        },
        {
          "output_type": "stream",
          "text": [
            "Frame count is not OK for video /tmp/dataset/shooting/v_shooting_24_01.mpg, 1 total, 1 extracted\n"
          ],
          "name": "stderr"
        },
        {
          "output_type": "stream",
          "text": [
            "Epoch 19/50\n",
            " 2/44 [>.............................] - ETA: 11s - loss: 1.7454 - acc: 1.0000"
          ],
          "name": "stdout"
        },
        {
          "output_type": "stream",
          "text": [
            "Frame count is not OK for video /tmp/dataset/shooting/v_shooting_16_05.mpg, 13 total, 13 extracted\n"
          ],
          "name": "stderr"
        },
        {
          "output_type": "stream",
          "text": [
            "20/44 [============>.................] - ETA: 5s - loss: 1.9821 - acc: 0.8518"
          ],
          "name": "stdout"
        },
        {
          "output_type": "stream",
          "text": [
            "Frame count is not OK for video /tmp/dataset/shooting/v_shooting_25_06.mpg, 12 total, 12 extracted\n"
          ],
          "name": "stderr"
        },
        {
          "output_type": "stream",
          "text": [
            "44/44 [==============================] - 11s 251ms/step - loss: 1.9066 - acc: 0.8531 - val_loss: 2.9138 - val_acc: 0.6092\n"
          ],
          "name": "stdout"
        },
        {
          "output_type": "stream",
          "text": [
            "Frame count is not OK for video /tmp/dataset/shooting/v_shooting_24_01.mpg, 1 total, 1 extracted\n"
          ],
          "name": "stderr"
        },
        {
          "output_type": "stream",
          "text": [
            "Epoch 20/50\n",
            " 9/44 [=====>........................] - ETA: 8s - loss: 1.7838 - acc: 0.9167"
          ],
          "name": "stdout"
        },
        {
          "output_type": "stream",
          "text": [
            "Frame count is not OK for video /tmp/dataset/shooting/v_shooting_16_05.mpg, 13 total, 13 extracted\n"
          ],
          "name": "stderr"
        },
        {
          "output_type": "stream",
          "text": [
            "24/44 [===============>..............] - ETA: 4s - loss: 2.0056 - acc: 0.8311"
          ],
          "name": "stdout"
        },
        {
          "output_type": "stream",
          "text": [
            "Frame count is not OK for video /tmp/dataset/shooting/v_shooting_25_06.mpg, 12 total, 12 extracted\n"
          ],
          "name": "stderr"
        },
        {
          "output_type": "stream",
          "text": [
            "44/44 [==============================] - 11s 250ms/step - loss: 1.9523 - acc: 0.8300 - val_loss: 2.6063 - val_acc: 0.7471\n"
          ],
          "name": "stdout"
        },
        {
          "output_type": "stream",
          "text": [
            "Frame count is not OK for video /tmp/dataset/shooting/v_shooting_24_01.mpg, 1 total, 1 extracted\n"
          ],
          "name": "stderr"
        },
        {
          "output_type": "stream",
          "text": [
            "Epoch 21/50\n",
            " 7/44 [===>..........................] - ETA: 9s - loss: 1.7620 - acc: 0.8571"
          ],
          "name": "stdout"
        },
        {
          "output_type": "stream",
          "text": [
            "Frame count is not OK for video /tmp/dataset/shooting/v_shooting_16_05.mpg, 13 total, 13 extracted\n"
          ],
          "name": "stderr"
        },
        {
          "output_type": "stream",
          "text": [
            "16/44 [=========>....................] - ETA: 6s - loss: 1.8723 - acc: 0.8516"
          ],
          "name": "stdout"
        },
        {
          "output_type": "stream",
          "text": [
            "Frame count is not OK for video /tmp/dataset/shooting/v_shooting_25_06.mpg, 12 total, 12 extracted\n"
          ],
          "name": "stderr"
        },
        {
          "output_type": "stream",
          "text": [
            "44/44 [==============================] - 11s 249ms/step - loss: 1.8381 - acc: 0.8377 - val_loss: 1.8920 - val_acc: 0.8046\n"
          ],
          "name": "stdout"
        },
        {
          "output_type": "stream",
          "text": [
            "Frame count is not OK for video /tmp/dataset/shooting/v_shooting_24_01.mpg, 1 total, 1 extracted\n"
          ],
          "name": "stderr"
        },
        {
          "output_type": "stream",
          "text": [
            "Epoch 22/50\n",
            " 6/44 [===>..........................] - ETA: 9s - loss: 1.6761 - acc: 0.8333"
          ],
          "name": "stdout"
        },
        {
          "output_type": "stream",
          "text": [
            "Frame count is not OK for video /tmp/dataset/shooting/v_shooting_16_05.mpg, 13 total, 13 extracted\n",
            "Frame count is not OK for video /tmp/dataset/shooting/v_shooting_25_06.mpg, 12 total, 12 extracted\n"
          ],
          "name": "stderr"
        },
        {
          "output_type": "stream",
          "text": [
            "44/44 [==============================] - 11s 251ms/step - loss: 1.6281 - acc: 0.8717 - val_loss: 1.7046 - val_acc: 0.8621\n"
          ],
          "name": "stdout"
        },
        {
          "output_type": "stream",
          "text": [
            "Frame count is not OK for video /tmp/dataset/shooting/v_shooting_24_01.mpg, 1 total, 1 extracted\n"
          ],
          "name": "stderr"
        },
        {
          "output_type": "stream",
          "text": [
            "Epoch 23/50\n",
            "22/44 [==============>...............] - ETA: 5s - loss: 1.4097 - acc: 0.9602"
          ],
          "name": "stdout"
        },
        {
          "output_type": "stream",
          "text": [
            "Frame count is not OK for video /tmp/dataset/shooting/v_shooting_16_05.mpg, 13 total, 13 extracted\n"
          ],
          "name": "stderr"
        },
        {
          "output_type": "stream",
          "text": [
            "29/44 [==================>...........] - ETA: 3s - loss: 1.4050 - acc: 0.9612"
          ],
          "name": "stdout"
        },
        {
          "output_type": "stream",
          "text": [
            "Frame count is not OK for video /tmp/dataset/shooting/v_shooting_25_06.mpg, 12 total, 12 extracted\n"
          ],
          "name": "stderr"
        },
        {
          "output_type": "stream",
          "text": [
            "44/44 [==============================] - 11s 248ms/step - loss: 1.5179 - acc: 0.9306 - val_loss: 1.6813 - val_acc: 0.8276\n"
          ],
          "name": "stdout"
        },
        {
          "output_type": "stream",
          "text": [
            "Frame count is not OK for video /tmp/dataset/shooting/v_shooting_24_01.mpg, 1 total, 1 extracted\n"
          ],
          "name": "stderr"
        },
        {
          "output_type": "stream",
          "text": [
            "Epoch 24/50\n",
            " 5/44 [==>...........................] - ETA: 9s - loss: 1.4421 - acc: 0.9000 "
          ],
          "name": "stdout"
        },
        {
          "output_type": "stream",
          "text": [
            "Frame count is not OK for video /tmp/dataset/shooting/v_shooting_25_06.mpg, 12 total, 12 extracted\n"
          ],
          "name": "stderr"
        },
        {
          "output_type": "stream",
          "text": [
            "27/44 [=================>............] - ETA: 4s - loss: 1.5728 - acc: 0.8796"
          ],
          "name": "stdout"
        },
        {
          "output_type": "stream",
          "text": [
            "Frame count is not OK for video /tmp/dataset/shooting/v_shooting_16_05.mpg, 13 total, 13 extracted\n"
          ],
          "name": "stderr"
        },
        {
          "output_type": "stream",
          "text": [
            "44/44 [==============================] - 11s 251ms/step - loss: 1.6427 - acc: 0.8377 - val_loss: 2.5080 - val_acc: 0.6782\n"
          ],
          "name": "stdout"
        },
        {
          "output_type": "stream",
          "text": [
            "Frame count is not OK for video /tmp/dataset/shooting/v_shooting_24_01.mpg, 1 total, 1 extracted\n"
          ],
          "name": "stderr"
        },
        {
          "output_type": "stream",
          "text": [
            "Epoch 25/50\n",
            "12/44 [=======>......................] - ETA: 7s - loss: 1.5901 - acc: 0.8750"
          ],
          "name": "stdout"
        },
        {
          "output_type": "stream",
          "text": [
            "Frame count is not OK for video /tmp/dataset/shooting/v_shooting_16_05.mpg, 13 total, 13 extracted\n"
          ],
          "name": "stderr"
        },
        {
          "output_type": "stream",
          "text": [
            "15/44 [=========>....................] - ETA: 7s - loss: 1.5402 - acc: 0.8905"
          ],
          "name": "stdout"
        },
        {
          "output_type": "stream",
          "text": [
            "Frame count is not OK for video /tmp/dataset/shooting/v_shooting_25_06.mpg, 12 total, 12 extracted\n"
          ],
          "name": "stderr"
        },
        {
          "output_type": "stream",
          "text": [
            "44/44 [==============================] - 11s 250ms/step - loss: 1.5270 - acc: 0.8770 - val_loss: 3.5787 - val_acc: 0.6207\n"
          ],
          "name": "stdout"
        },
        {
          "output_type": "stream",
          "text": [
            "Frame count is not OK for video /tmp/dataset/shooting/v_shooting_24_01.mpg, 1 total, 1 extracted\n"
          ],
          "name": "stderr"
        },
        {
          "output_type": "stream",
          "text": [
            "Epoch 26/50\n",
            "12/44 [=======>......................] - ETA: 7s - loss: 1.4094 - acc: 0.9062"
          ],
          "name": "stdout"
        },
        {
          "output_type": "stream",
          "text": [
            "Frame count is not OK for video /tmp/dataset/shooting/v_shooting_16_05.mpg, 13 total, 13 extracted\n"
          ],
          "name": "stderr"
        },
        {
          "output_type": "stream",
          "text": [
            "19/44 [===========>..................] - ETA: 6s - loss: 1.4159 - acc: 0.9135"
          ],
          "name": "stdout"
        },
        {
          "output_type": "stream",
          "text": [
            "Frame count is not OK for video /tmp/dataset/shooting/v_shooting_25_06.mpg, 12 total, 12 extracted\n"
          ],
          "name": "stderr"
        },
        {
          "output_type": "stream",
          "text": [
            "44/44 [==============================] - 11s 249ms/step - loss: 1.3897 - acc: 0.9249 - val_loss: 1.7616 - val_acc: 0.7471\n"
          ],
          "name": "stdout"
        },
        {
          "output_type": "stream",
          "text": [
            "Frame count is not OK for video /tmp/dataset/shooting/v_shooting_24_01.mpg, 1 total, 1 extracted\n"
          ],
          "name": "stderr"
        },
        {
          "output_type": "stream",
          "text": [
            "Epoch 27/50\n",
            "24/44 [===============>..............] - ETA: 4s - loss: 1.4092 - acc: 0.8802"
          ],
          "name": "stdout"
        },
        {
          "output_type": "stream",
          "text": [
            "Frame count is not OK for video /tmp/dataset/shooting/v_shooting_16_05.mpg, 13 total, 13 extracted\n"
          ],
          "name": "stderr"
        },
        {
          "output_type": "stream",
          "text": [
            "27/44 [=================>............] - ETA: 4s - loss: 1.4354 - acc: 0.8704"
          ],
          "name": "stdout"
        },
        {
          "output_type": "stream",
          "text": [
            "Frame count is not OK for video /tmp/dataset/shooting/v_shooting_25_06.mpg, 12 total, 12 extracted\n"
          ],
          "name": "stderr"
        },
        {
          "output_type": "stream",
          "text": [
            "44/44 [==============================] - 11s 249ms/step - loss: 1.3992 - acc: 0.8738 - val_loss: 1.7144 - val_acc: 0.8046\n"
          ],
          "name": "stdout"
        },
        {
          "output_type": "stream",
          "text": [
            "Frame count is not OK for video /tmp/dataset/shooting/v_shooting_24_01.mpg, 1 total, 1 extracted\n"
          ],
          "name": "stderr"
        },
        {
          "output_type": "stream",
          "text": [
            "Epoch 28/50\n",
            "20/44 [============>.................] - ETA: 5s - loss: 1.3068 - acc: 0.9250"
          ],
          "name": "stdout"
        },
        {
          "output_type": "stream",
          "text": [
            "Frame count is not OK for video /tmp/dataset/shooting/v_shooting_25_06.mpg, 12 total, 12 extracted\n"
          ],
          "name": "stderr"
        },
        {
          "output_type": "stream",
          "text": [
            "35/44 [======================>.......] - ETA: 2s - loss: 1.3039 - acc: 0.9092"
          ],
          "name": "stdout"
        },
        {
          "output_type": "stream",
          "text": [
            "Frame count is not OK for video /tmp/dataset/shooting/v_shooting_16_05.mpg, 13 total, 13 extracted\n"
          ],
          "name": "stderr"
        },
        {
          "output_type": "stream",
          "text": [
            "44/44 [==============================] - 11s 240ms/step - loss: 1.3541 - acc: 0.8848 - val_loss: 4.3225 - val_acc: 0.4598\n",
            "Epoch 00028: early stopping\n"
          ],
          "name": "stdout"
        }
      ]
    },
    {
      "cell_type": "code",
      "metadata": {
        "id": "EyY8xse17u0z",
        "colab_type": "code",
        "colab": {
          "base_uri": "https://localhost:8080/",
          "height": 301
        },
        "outputId": "a637871f-a10a-4a4e-dc6a-6e32058138c6"
      },
      "source": [
        "plot_training(history)"
      ],
      "execution_count": 34,
      "outputs": [
        {
          "output_type": "display_data",
          "data": {
            "image/png": "[encoded data removed]",
            "text/plain": [
              "<Figure size 1152x288 with 2 Axes>"
            ]
          },
          "metadata": {
            "tags": []
          }
        }
      ]
    },
    {
      "cell_type": "markdown",
      "metadata": {
        "id": "NOtkUHmo7wE0",
        "colab_type": "text"
      },
      "source": [
        "# 3DCNN with extracting frames as array"
      ]
    },
    {
      "cell_type": "code",
      "metadata": {
        "id": "x4VhwZlzVai-",
        "colab_type": "code",
        "colab": {}
      },
      "source": [
        "# image specification\n",
        "n_frames = 15\n",
        "img_rows,img_cols,img_depth=16,16,n_frames\n",
        "# Training data\n",
        "X_tr=[]           # variable to store entire dataset\n",
        "label=[]"
      ],
      "execution_count": 0,
      "outputs": []
    },
    {
      "cell_type": "code",
      "metadata": {
        "id": "PWNsDeOLbhLQ",
        "colab_type": "code",
        "colab": {}
      },
      "source": [
        "path = '/tmp/dataset_11/'\n",
        "\n",
        "folders = os.listdir(path)\n",
        "vid_class = -1\n",
        "for folder in folders:\n",
        "  vid_class += 1  \n",
        "  folder_path = os.path.join(path,folder)\n",
        "  listing = os.listdir(folder_path)\n",
        "  for vid in listing:\n",
        "    vid = os.path.join(path,folder,vid)\n",
        "    frames = []\n",
        "    cap = cv2.VideoCapture(vid)\n",
        "    fps = cap.get(5) \n",
        "\n",
        "    for k in range(n_frames):\n",
        "        ret, frame = cap.read()\n",
        "        if np.shape(frame) != ():\n",
        "          frame=cv2.resize(frame,(img_rows,img_cols),interpolation=cv2.INTER_AREA)\n",
        "          gray = cv2.cvtColor(frame, cv2.COLOR_BGR2GRAY)\n",
        "          frames.append(gray) \n",
        "\n",
        "        if cv2.waitKey(1) & 0xFF == ord('q'):\n",
        "            break\n",
        "    cap.release()\n",
        "    cv2.destroyAllWindows()\n",
        "\n",
        "    input=np.array(frames)\n",
        "\n",
        "    #print input.shape\n",
        "    ipt=np.rollaxis(np.rollaxis(input,2,0),2,0)    \n",
        "\n",
        "    if(ipt.shape[2] == n_frames):\n",
        "       X_tr.append(ipt)\n",
        "       label.append(vid_class)       "
      ],
      "execution_count": 0,
      "outputs": []
    },
    {
      "cell_type": "code",
      "metadata": {
        "id": "35_zpu0qn70v",
        "colab_type": "code",
        "colab": {
          "base_uri": "https://localhost:8080/",
          "height": 34
        },
        "outputId": "9e4618b6-5717-4d7a-b55f-c28b3c53cd43"
      },
      "source": [
        "np.shape(X_tr)"
      ],
      "execution_count": 44,
      "outputs": [
        {
          "output_type": "execute_result",
          "data": {
            "text/plain": [
              "(1597, 16, 16, 15)"
            ]
          },
          "metadata": {
            "tags": []
          },
          "execution_count": 44
        }
      ]
    },
    {
      "cell_type": "code",
      "metadata": {
        "id": "3TYMwIReun4D",
        "colab_type": "code",
        "colab": {
          "base_uri": "https://localhost:8080/",
          "height": 34
        },
        "outputId": "29894e86-a211-46c7-b1a2-3091ce8915c4"
      },
      "source": [
        "np.shape(label)"
      ],
      "execution_count": 45,
      "outputs": [
        {
          "output_type": "execute_result",
          "data": {
            "text/plain": [
              "(1597,)"
            ]
          },
          "metadata": {
            "tags": []
          },
          "execution_count": 45
        }
      ]
    },
    {
      "cell_type": "code",
      "metadata": {
        "id": "AdlduJYg8d4I",
        "colab_type": "code",
        "colab": {
          "base_uri": "https://localhost:8080/",
          "height": 68
        },
        "outputId": "f8433607-8f2b-4ef5-88dd-2ea7ceec8a05"
      },
      "source": [
        "X_tr_array = np.array(X_tr)   # convert the frames read into array\n",
        "\n",
        "num_samples = len(X_tr_array)\n",
        "print(num_samples)\n",
        "\n",
        "train_data = [X_tr_array,label]\n",
        "\n",
        "(X_train, y_train) = (train_data[0],train_data[1])\n",
        "print('X_Train shape:', X_train.shape)\n",
        "\n",
        "train_set = np.zeros((num_samples, 1, img_rows,img_cols,img_depth))\n",
        "\n",
        "for h in range(num_samples):\n",
        "    train_set[h][0][:][:][:]=X_train[h,:,:,:]\n",
        "\n",
        "\n",
        "patch_size = 15    # img_depth or number of frames used for each video\n",
        "\n",
        "print(train_set.shape, 'train samples')\n",
        "\n",
        "# CNN Training parameters\n",
        "\n",
        "batch_size = 2\n",
        "nb_classes = 11\n",
        "nb_epoch = 50\n",
        "\n",
        "# convert class vectors to binary class matrices\n",
        "Y_train = np_utils.to_categorical(y_train, nb_classes)\n",
        "\n",
        "# number of convolutional filters to use at each layer\n",
        "nb_filters = [  32,   # 1st conv layer\n",
        "                32    # 2nd\n",
        "             ]\n",
        "\n",
        "# level of pooling to perform at each layer (POOL x POOL)\n",
        "nb_pool = [3, 3]\n",
        "\n",
        "# level of convolution to perform at each layer (CONV x CONV)\n",
        "nb_conv = [5,5]\n",
        "\n",
        "# Pre-processing\n",
        "train_set = train_set.astype('float32')\n",
        "train_set -= np.mean(train_set)\n",
        "train_set /= np.max(train_set)\n",
        "\n",
        "# Split the data\n",
        "X_train_new, X_val_new, y_train_new,y_val_new = train_test_split(train_set, Y_train, test_size=0.1, random_state=4)"
      ],
      "execution_count": 46,
      "outputs": [
        {
          "output_type": "stream",
          "text": [
            "1597\n",
            "X_Train shape: (1597, 16, 16, 15)\n",
            "(1597, 1, 16, 16, 15) train samples\n"
          ],
          "name": "stdout"
        }
      ]
    },
    {
      "cell_type": "code",
      "metadata": {
        "id": "89xqb2GNxEsW",
        "colab_type": "code",
        "outputId": "49cb8c32-24a7-46df-f418-c0ddfb391c97",
        "colab": {
          "base_uri": "https://localhost:8080/",
          "height": 1000
        }
      },
      "source": [
        "# Define model\n",
        "\n",
        "model = Sequential()\n",
        "model.add(Conv3D(32,(5,5,5),data_format = 'channels_first',input_shape=(1,img_rows, img_cols, patch_size),activation='relu'))\n",
        "model.add(MaxPool3D())\n",
        "model.add(Dropout(0.5))\n",
        "model.add(Flatten())\n",
        "model.add(Dense(128, init='normal', activation='relu'))\n",
        "model.add(Dropout(0.5))\n",
        "model.add(Dense(nb_classes,init='normal'))\n",
        "model.add(Activation('softmax'))\n",
        "model.compile(loss='categorical_crossentropy', optimizer='Adam', metrics=['accuracy'])\n",
        "\n",
        "model.summary()\n",
        "\n",
        "# Train the model\n",
        "history = model.fit(\n",
        "    X_train_new,\n",
        "    y_train_new,\n",
        "    validation_data=(X_val_new,y_val_new),\n",
        "    batch_size=batch_size,\n",
        "    nb_epoch = nb_epoch,\n",
        "    shuffle=True\n",
        "    )"
      ],
      "execution_count": 47,
      "outputs": [
        {
          "output_type": "stream",
          "text": [
            "/usr/local/lib/python3.6/dist-packages/ipykernel_launcher.py:7: UserWarning: Update your `Dense` call to the Keras 2 API: `Dense(128, activation=\"relu\", kernel_initializer=\"normal\")`\n",
            "  import sys\n",
            "/usr/local/lib/python3.6/dist-packages/ipykernel_launcher.py:9: UserWarning: Update your `Dense` call to the Keras 2 API: `Dense(11, kernel_initializer=\"normal\")`\n",
            "  if __name__ == '__main__':\n",
            "/usr/local/lib/python3.6/dist-packages/ipykernel_launcher.py:22: UserWarning: The `nb_epoch` argument in `fit` has been renamed `epochs`.\n"
          ],
          "name": "stderr"
        },
        {
          "output_type": "stream",
          "text": [
            "Model: \"sequential_6\"\n",
            "_________________________________________________________________\n",
            "Layer (type)                 Output Shape              Param #   \n",
            "=================================================================\n",
            "conv3d_115 (Conv3D)          (None, 32, 12, 12, 11)    4032      \n",
            "_________________________________________________________________\n",
            "max_pooling3d_6 (MaxPooling3 (None, 16, 6, 6, 11)      0         \n",
            "_________________________________________________________________\n",
            "dropout_6 (Dropout)          (None, 16, 6, 6, 11)      0         \n",
            "_________________________________________________________________\n",
            "flatten_5 (Flatten)          (None, 6336)              0         \n",
            "_________________________________________________________________\n",
            "dense_10 (Dense)             (None, 128)               811136    \n",
            "_________________________________________________________________\n",
            "dropout_7 (Dropout)          (None, 128)               0         \n",
            "_________________________________________________________________\n",
            "dense_11 (Dense)             (None, 11)                1419      \n",
            "_________________________________________________________________\n",
            "activation_100 (Activation)  (None, 11)                0         \n",
            "=================================================================\n",
            "Total params: 816,587\n",
            "Trainable params: 816,587\n",
            "Non-trainable params: 0\n",
            "_________________________________________________________________\n",
            "Train on 1437 samples, validate on 160 samples\n",
            "Epoch 1/50\n",
            "1437/1437 [==============================] - 11s 8ms/step - loss: 2.4352 - acc: 0.1273 - val_loss: 2.3200 - val_acc: 0.1875\n",
            "Epoch 2/50\n",
            "1437/1437 [==============================] - 5s 3ms/step - loss: 2.3465 - acc: 0.1441 - val_loss: 2.2487 - val_acc: 0.1875\n",
            "Epoch 3/50\n",
            "1437/1437 [==============================] - 5s 3ms/step - loss: 2.3000 - acc: 0.1955 - val_loss: 2.2641 - val_acc: 0.2000\n",
            "Epoch 4/50\n",
            "1437/1437 [==============================] - 5s 3ms/step - loss: 2.2178 - acc: 0.2359 - val_loss: 2.1450 - val_acc: 0.2750\n",
            "Epoch 5/50\n",
            "1437/1437 [==============================] - 5s 3ms/step - loss: 2.1572 - acc: 0.2693 - val_loss: 2.1199 - val_acc: 0.2812\n",
            "Epoch 6/50\n",
            "1437/1437 [==============================] - 5s 3ms/step - loss: 2.0920 - acc: 0.2610 - val_loss: 1.9729 - val_acc: 0.3563\n",
            "Epoch 7/50\n",
            "1437/1437 [==============================] - 5s 3ms/step - loss: 2.0641 - acc: 0.2791 - val_loss: 1.9671 - val_acc: 0.3937\n",
            "Epoch 8/50\n",
            "1437/1437 [==============================] - 5s 3ms/step - loss: 1.9681 - acc: 0.3138 - val_loss: 1.8151 - val_acc: 0.3625\n",
            "Epoch 9/50\n",
            "1437/1437 [==============================] - 5s 3ms/step - loss: 1.9136 - acc: 0.3271 - val_loss: 1.9502 - val_acc: 0.3000\n",
            "Epoch 10/50\n",
            "1437/1437 [==============================] - 5s 3ms/step - loss: 1.8256 - acc: 0.3549 - val_loss: 1.6471 - val_acc: 0.4562\n",
            "Epoch 11/50\n",
            "1437/1437 [==============================] - 5s 3ms/step - loss: 1.8305 - acc: 0.3688 - val_loss: 1.7720 - val_acc: 0.4500\n",
            "Epoch 12/50\n",
            "1437/1437 [==============================] - 5s 3ms/step - loss: 1.7644 - acc: 0.3946 - val_loss: 1.7768 - val_acc: 0.4188\n",
            "Epoch 13/50\n",
            "1437/1437 [==============================] - 5s 3ms/step - loss: 1.6986 - acc: 0.4189 - val_loss: 1.7062 - val_acc: 0.4437\n",
            "Epoch 14/50\n",
            "1437/1437 [==============================] - 5s 3ms/step - loss: 1.6891 - acc: 0.4071 - val_loss: 1.8928 - val_acc: 0.3937\n",
            "Epoch 15/50\n",
            "1437/1437 [==============================] - 5s 3ms/step - loss: 1.7204 - acc: 0.4008 - val_loss: 1.7083 - val_acc: 0.4500\n",
            "Epoch 16/50\n",
            "1437/1437 [==============================] - 5s 3ms/step - loss: 1.6378 - acc: 0.4502 - val_loss: 1.7973 - val_acc: 0.3875\n",
            "Epoch 17/50\n",
            "1437/1437 [==============================] - 5s 3ms/step - loss: 1.6298 - acc: 0.4231 - val_loss: 1.6848 - val_acc: 0.4625\n",
            "Epoch 18/50\n",
            "1437/1437 [==============================] - 5s 3ms/step - loss: 1.5613 - acc: 0.4690 - val_loss: 1.6617 - val_acc: 0.4500\n",
            "Epoch 19/50\n",
            "1437/1437 [==============================] - 5s 3ms/step - loss: 1.4813 - acc: 0.4795 - val_loss: 1.7205 - val_acc: 0.5000\n",
            "Epoch 20/50\n",
            "1437/1437 [==============================] - 5s 4ms/step - loss: 1.4837 - acc: 0.4697 - val_loss: 1.6056 - val_acc: 0.4562\n",
            "Epoch 21/50\n",
            "1437/1437 [==============================] - 5s 4ms/step - loss: 1.5100 - acc: 0.4669 - val_loss: 1.7046 - val_acc: 0.5000\n",
            "Epoch 22/50\n",
            "1437/1437 [==============================] - 5s 3ms/step - loss: 1.5599 - acc: 0.4565 - val_loss: 1.7905 - val_acc: 0.3750\n",
            "Epoch 23/50\n",
            "1437/1437 [==============================] - 5s 3ms/step - loss: 1.5514 - acc: 0.4600 - val_loss: 1.4805 - val_acc: 0.4813\n",
            "Epoch 24/50\n",
            "1437/1437 [==============================] - 5s 3ms/step - loss: 1.4852 - acc: 0.4906 - val_loss: 1.7071 - val_acc: 0.4625\n",
            "Epoch 25/50\n",
            "1437/1437 [==============================] - 5s 3ms/step - loss: 1.4526 - acc: 0.4899 - val_loss: 1.6069 - val_acc: 0.4875\n",
            "Epoch 26/50\n",
            "1437/1437 [==============================] - 5s 3ms/step - loss: 1.4334 - acc: 0.4934 - val_loss: 1.7807 - val_acc: 0.4813\n",
            "Epoch 27/50\n",
            "1437/1437 [==============================] - 5s 3ms/step - loss: 1.4323 - acc: 0.5059 - val_loss: 1.5453 - val_acc: 0.5687\n",
            "Epoch 28/50\n",
            "1437/1437 [==============================] - 5s 3ms/step - loss: 1.4301 - acc: 0.4913 - val_loss: 1.6936 - val_acc: 0.5000\n",
            "Epoch 29/50\n",
            "1437/1437 [==============================] - 5s 3ms/step - loss: 1.3712 - acc: 0.5184 - val_loss: 1.8338 - val_acc: 0.4938\n",
            "Epoch 30/50\n",
            "1437/1437 [==============================] - 5s 3ms/step - loss: 1.4029 - acc: 0.5254 - val_loss: 1.7322 - val_acc: 0.4500\n",
            "Epoch 31/50\n",
            "1437/1437 [==============================] - 5s 3ms/step - loss: 1.3682 - acc: 0.5477 - val_loss: 1.6626 - val_acc: 0.5188\n",
            "Epoch 32/50\n",
            "1437/1437 [==============================] - 5s 3ms/step - loss: 1.3577 - acc: 0.5386 - val_loss: 1.7678 - val_acc: 0.5563\n",
            "Epoch 33/50\n",
            "1437/1437 [==============================] - 5s 3ms/step - loss: 1.4141 - acc: 0.5428 - val_loss: 1.6237 - val_acc: 0.5250\n",
            "Epoch 34/50\n",
            "1437/1437 [==============================] - 5s 3ms/step - loss: 1.3355 - acc: 0.5463 - val_loss: 1.6554 - val_acc: 0.5312\n",
            "Epoch 35/50\n",
            "1437/1437 [==============================] - 5s 3ms/step - loss: 1.3268 - acc: 0.5442 - val_loss: 1.6515 - val_acc: 0.5625\n",
            "Epoch 36/50\n",
            "1437/1437 [==============================] - 5s 3ms/step - loss: 1.2989 - acc: 0.5581 - val_loss: 1.8364 - val_acc: 0.5062\n",
            "Epoch 37/50\n",
            "1437/1437 [==============================] - 5s 3ms/step - loss: 1.4320 - acc: 0.5177 - val_loss: 1.7673 - val_acc: 0.4813\n",
            "Epoch 38/50\n",
            "1437/1437 [==============================] - 5s 4ms/step - loss: 1.3119 - acc: 0.5560 - val_loss: 1.7106 - val_acc: 0.5000\n",
            "Epoch 39/50\n",
            "1437/1437 [==============================] - 5s 3ms/step - loss: 1.2966 - acc: 0.5477 - val_loss: 1.6914 - val_acc: 0.5375\n",
            "Epoch 40/50\n",
            "1437/1437 [==============================] - 5s 3ms/step - loss: 1.3477 - acc: 0.5588 - val_loss: 1.7988 - val_acc: 0.5563\n",
            "Epoch 41/50\n",
            "1437/1437 [==============================] - 5s 3ms/step - loss: 1.2585 - acc: 0.5748 - val_loss: 1.7031 - val_acc: 0.5500\n",
            "Epoch 42/50\n",
            "1437/1437 [==============================] - 5s 3ms/step - loss: 1.2392 - acc: 0.5595 - val_loss: 1.6273 - val_acc: 0.5375\n",
            "Epoch 43/50\n",
            "1437/1437 [==============================] - 5s 3ms/step - loss: 1.2063 - acc: 0.5999 - val_loss: 1.7562 - val_acc: 0.5563\n",
            "Epoch 44/50\n",
            "1437/1437 [==============================] - 5s 3ms/step - loss: 1.2229 - acc: 0.5734 - val_loss: 1.6842 - val_acc: 0.5188\n",
            "Epoch 45/50\n",
            "1437/1437 [==============================] - 5s 3ms/step - loss: 1.2567 - acc: 0.5658 - val_loss: 1.8610 - val_acc: 0.5625\n",
            "Epoch 46/50\n",
            "1437/1437 [==============================] - 5s 3ms/step - loss: 1.1942 - acc: 0.6068 - val_loss: 1.7754 - val_acc: 0.6000\n",
            "Epoch 47/50\n",
            "1437/1437 [==============================] - 5s 3ms/step - loss: 1.2108 - acc: 0.5915 - val_loss: 1.8756 - val_acc: 0.5312\n",
            "Epoch 48/50\n",
            "1437/1437 [==============================] - 5s 3ms/step - loss: 1.2210 - acc: 0.5776 - val_loss: 1.8609 - val_acc: 0.5125\n",
            "Epoch 49/50\n",
            "1437/1437 [==============================] - 5s 3ms/step - loss: 1.1825 - acc: 0.5769 - val_loss: 1.9483 - val_acc: 0.4562\n",
            "Epoch 50/50\n",
            "1437/1437 [==============================] - 5s 3ms/step - loss: 1.1628 - acc: 0.6013 - val_loss: 1.7521 - val_acc: 0.5938\n"
          ],
          "name": "stdout"
        }
      ]
    },
    {
      "cell_type": "code",
      "metadata": {
        "id": "AG5BSvhtyKEd",
        "colab_type": "code",
        "outputId": "80e466ec-0ada-4be0-b539-2b6c9d13de27",
        "colab": {
          "base_uri": "https://localhost:8080/",
          "height": 301
        }
      },
      "source": [
        "plot_training(history)"
      ],
      "execution_count": 48,
      "outputs": [
        {
          "output_type": "display_data",
          "data": {
            "image/png": "[encoded data removed]",
            "text/plain": [
              "<Figure size 1152x288 with 2 Axes>"
            ]
          },
          "metadata": {
            "tags": []
          }
        }
      ]
    }
  ]
}